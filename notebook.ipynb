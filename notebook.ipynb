{
 "cells": [
  {
   "cell_type": "markdown",
   "id": "6957b92c",
   "metadata": {},
   "source": [
    "# Data Analyst Professional Practical Exam Submission\n",
    "\n",
    "**You can use any tool that you want to do your analysis and create visualizations. Use this template to write up your summary for submission.**\n",
    "\n",
    "You can use any markdown formatting you wish. If you are not familiar with Markdown, read the [Markdown Guide](https://s3.amazonaws.com/talent-assets.datacamp.com/Markdown+Guide.pdf) before you start.\n"
   ]
  },
  {
   "cell_type": "markdown",
   "id": "f11c1066",
   "metadata": {},
   "source": [
    "## 📝 Task List\n",
    "\n",
    "Your written report should include written text summaries and graphics of the following:\n",
    "- Data validation:   \n",
    "  - Describe validation and cleaning steps for every column in the data \n",
    "- Exploratory Analysis:  \n",
    "  - Include two different graphics showing single variables only to demonstrate the characteristics of data  \n",
    "  - Include at least one graphic showing two or more variables to represent the relationship between features\n",
    "  - Describe your findings\n",
    "- Definition of a metric for the business to monitor  \n",
    "  - How should the business use the metric to monitor the business problem\n",
    "  - Can you estimate initial value(s) for the metric based on the current data\n",
    "- Final summary including recommendations that the business should undertake\n",
    "\n",
    "*Start writing report here..*"
   ]
  },
  {
   "cell_type": "markdown",
   "id": "aa6994de",
   "metadata": {},
   "source": []
  },
  {
   "cell_type": "markdown",
   "id": "fb714617",
   "metadata": {},
   "source": [
    "## ✅ When you have finished...\n",
    "-  Publish your Workspace using the option on the left\n",
    "-  Check the published version of your report:\n",
    "\t-  Can you see everything you want us to grade?\n",
    "    -  Are all the graphics visible?\n",
    "-  Review the grading rubric. Have you included everything that will be graded?\n",
    "-  Head back to the [Certification Dashboard](https://app.datacamp.com/certification) to submit your practical exam report and record your presentation"
   ]
  },
  {
   "cell_type": "markdown",
   "id": "366235b8",
   "metadata": {},
   "source": [
    "## Data Understanding & Validation"
   ]
  },
  {
   "cell_type": "code",
   "execution_count": 1,
   "id": "52808934",
   "metadata": {
    "executionTime": 3113,
    "lastSuccessfullyExecutedCode": "#importing necessary libraries\nimport pandas as pd\nimport matplotlib.pyplot as plt\nimport seaborn as sns\n\n%matplotlib inline "
   },
   "outputs": [],
   "source": [
    "#importing the necessary libraries\n",
    "import pandas as pd\n",
    "import matplotlib.pyplot as plt\n",
    "import seaborn as sns\n",
    "\n",
    "%matplotlib inline "
   ]
  },
  {
   "cell_type": "code",
   "execution_count": 2,
   "id": "892057b6",
   "metadata": {
    "executionTime": 37,
    "lastSuccessfullyExecutedCode": "#reading in csv file\nproduct_sales = pd.read_csv('product_sales.csv')\n\n#displaying first few rows and info\ndisplay(product_sales.head())\nprint('\\n')\ndisplay(product_sales.info())",
    "scrolled": false
   },
   "outputs": [
    {
     "data": {
      "text/html": [
       "<div>\n",
       "<style scoped>\n",
       "    .dataframe tbody tr th:only-of-type {\n",
       "        vertical-align: middle;\n",
       "    }\n",
       "\n",
       "    .dataframe tbody tr th {\n",
       "        vertical-align: top;\n",
       "    }\n",
       "\n",
       "    .dataframe thead th {\n",
       "        text-align: right;\n",
       "    }\n",
       "</style>\n",
       "<table border=\"1\" class=\"dataframe\">\n",
       "  <thead>\n",
       "    <tr style=\"text-align: right;\">\n",
       "      <th></th>\n",
       "      <th>week</th>\n",
       "      <th>sales_method</th>\n",
       "      <th>customer_id</th>\n",
       "      <th>nb_sold</th>\n",
       "      <th>revenue</th>\n",
       "      <th>years_as_customer</th>\n",
       "      <th>nb_site_visits</th>\n",
       "      <th>state</th>\n",
       "    </tr>\n",
       "  </thead>\n",
       "  <tbody>\n",
       "    <tr>\n",
       "      <th>0</th>\n",
       "      <td>2</td>\n",
       "      <td>Email</td>\n",
       "      <td>2e72d641-95ac-497b-bbf8-4861764a7097</td>\n",
       "      <td>10</td>\n",
       "      <td>NaN</td>\n",
       "      <td>0</td>\n",
       "      <td>24</td>\n",
       "      <td>Arizona</td>\n",
       "    </tr>\n",
       "    <tr>\n",
       "      <th>1</th>\n",
       "      <td>6</td>\n",
       "      <td>Email + Call</td>\n",
       "      <td>3998a98d-70f5-44f7-942e-789bb8ad2fe7</td>\n",
       "      <td>15</td>\n",
       "      <td>225.47</td>\n",
       "      <td>1</td>\n",
       "      <td>28</td>\n",
       "      <td>Kansas</td>\n",
       "    </tr>\n",
       "    <tr>\n",
       "      <th>2</th>\n",
       "      <td>5</td>\n",
       "      <td>Call</td>\n",
       "      <td>d1de9884-8059-4065-b10f-86eef57e4a44</td>\n",
       "      <td>11</td>\n",
       "      <td>52.55</td>\n",
       "      <td>6</td>\n",
       "      <td>26</td>\n",
       "      <td>Wisconsin</td>\n",
       "    </tr>\n",
       "    <tr>\n",
       "      <th>3</th>\n",
       "      <td>4</td>\n",
       "      <td>Email</td>\n",
       "      <td>78aa75a4-ffeb-4817-b1d0-2f030783c5d7</td>\n",
       "      <td>11</td>\n",
       "      <td>NaN</td>\n",
       "      <td>3</td>\n",
       "      <td>25</td>\n",
       "      <td>Indiana</td>\n",
       "    </tr>\n",
       "    <tr>\n",
       "      <th>4</th>\n",
       "      <td>3</td>\n",
       "      <td>Email</td>\n",
       "      <td>10e6d446-10a5-42e5-8210-1b5438f70922</td>\n",
       "      <td>9</td>\n",
       "      <td>90.49</td>\n",
       "      <td>0</td>\n",
       "      <td>28</td>\n",
       "      <td>Illinois</td>\n",
       "    </tr>\n",
       "  </tbody>\n",
       "</table>\n",
       "</div>"
      ],
      "text/plain": [
       "   week  sales_method                           customer_id  nb_sold  revenue  \\\n",
       "0     2         Email  2e72d641-95ac-497b-bbf8-4861764a7097       10      NaN   \n",
       "1     6  Email + Call  3998a98d-70f5-44f7-942e-789bb8ad2fe7       15   225.47   \n",
       "2     5          Call  d1de9884-8059-4065-b10f-86eef57e4a44       11    52.55   \n",
       "3     4         Email  78aa75a4-ffeb-4817-b1d0-2f030783c5d7       11      NaN   \n",
       "4     3         Email  10e6d446-10a5-42e5-8210-1b5438f70922        9    90.49   \n",
       "\n",
       "   years_as_customer  nb_site_visits      state  \n",
       "0                  0              24    Arizona  \n",
       "1                  1              28     Kansas  \n",
       "2                  6              26  Wisconsin  \n",
       "3                  3              25    Indiana  \n",
       "4                  0              28   Illinois  "
      ]
     },
     "metadata": {},
     "output_type": "display_data"
    },
    {
     "name": "stdout",
     "output_type": "stream",
     "text": [
      "\n",
      "\n",
      "<class 'pandas.core.frame.DataFrame'>\n",
      "RangeIndex: 15000 entries, 0 to 14999\n",
      "Data columns (total 8 columns):\n",
      " #   Column             Non-Null Count  Dtype  \n",
      "---  ------             --------------  -----  \n",
      " 0   week               15000 non-null  int64  \n",
      " 1   sales_method       15000 non-null  object \n",
      " 2   customer_id        15000 non-null  object \n",
      " 3   nb_sold            15000 non-null  int64  \n",
      " 4   revenue            13926 non-null  float64\n",
      " 5   years_as_customer  15000 non-null  int64  \n",
      " 6   nb_site_visits     15000 non-null  int64  \n",
      " 7   state              15000 non-null  object \n",
      "dtypes: float64(1), int64(4), object(3)\n",
      "memory usage: 937.6+ KB\n"
     ]
    },
    {
     "data": {
      "text/plain": [
       "None"
      ]
     },
     "metadata": {},
     "output_type": "display_data"
    }
   ],
   "source": [
    "#reading in csv file\n",
    "product_sales = pd.read_csv('product_sales.csv')\n",
    "\n",
    "#displaying first few rows and info\n",
    "display(product_sales.head())\n",
    "print('\\n')\n",
    "display(product_sales.info())"
   ]
  },
  {
   "cell_type": "markdown",
   "id": "0f09aaf8",
   "metadata": {},
   "source": [
    "In this dataset have a total of 15,000 entries and 8 columns. Only one column has null values - `revenue`."
   ]
  },
  {
   "cell_type": "code",
   "execution_count": 3,
   "id": "ff378022",
   "metadata": {
    "executionTime": 11,
    "lastSuccessfullyExecutedCode": "#amount of null values  \nproduct_sales.isna().sum()"
   },
   "outputs": [
    {
     "data": {
      "text/plain": [
       "1074"
      ]
     },
     "execution_count": 3,
     "metadata": {},
     "output_type": "execute_result"
    }
   ],
   "source": [
    "#amount of null values for the revenue column  \n",
    "product_sales['revenue'].isna().sum()"
   ]
  },
  {
   "cell_type": "markdown",
   "id": "98acb59a",
   "metadata": {},
   "source": [
    "The column, `revenue`, is missing 1,074 from a total of 15,000. The missing values accounts for 7.16% of the data. Will impute the missing values instead of deleting them because the dataset is already small. Most likely will be the median value due to the mean being susceptible to outliers.\n",
    "\n",
    "### Examination of Each Attribute"
   ]
  },
  {
   "cell_type": "code",
   "execution_count": 4,
   "id": "eebf365c",
   "metadata": {},
   "outputs": [
    {
     "data": {
      "text/plain": [
       "1    3721\n",
       "4    2575\n",
       "5    2574\n",
       "2    2491\n",
       "3    2411\n",
       "6    1228\n",
       "Name: week, dtype: int64"
      ]
     },
     "execution_count": 4,
     "metadata": {},
     "output_type": "execute_result"
    }
   ],
   "source": [
    "#examining the week attribute \n",
    "product_sales['week'].value_counts()"
   ]
  },
  {
   "cell_type": "markdown",
   "id": "150f3d8d",
   "metadata": {},
   "source": [
    "`week`: week the sale was made, counted as week since product launch. There are 6 unique values. From here can see that the most sales are made in the 1st week of the product launch, with the 6th week having the lowest sales. However, the amount of sales does not follow the time chronologically with the 4th week since the product launch being the second highest and the 3rd week being the second lowest."
   ]
  },
  {
   "cell_type": "code",
   "execution_count": 5,
   "id": "1ee2462a",
   "metadata": {
    "executionTime": 0,
    "lastSuccessfullyExecutedCode": "#examining target value - sales_method \nproduct_sales['sales_method'].value_counts()"
   },
   "outputs": [
    {
     "data": {
      "text/plain": [
       "Email           7456\n",
       "Call            4962\n",
       "Email + Call    2549\n",
       "em + call         23\n",
       "email             10\n",
       "Name: sales_method, dtype: int64"
      ]
     },
     "execution_count": 5,
     "metadata": {},
     "output_type": "execute_result"
    }
   ],
   "source": [
    "#examining sales_method attribute\n",
    "product_sales['sales_method'].value_counts()"
   ]
  },
  {
   "cell_type": "markdown",
   "id": "d8d55b23",
   "metadata": {},
   "source": [
    "`sales_method`: sales method used for the customer. There are 3 methods. However there has to be some cleaning up since em + call can go under Email + Call and email goes under Email. Though even with changes can see that Email will still be the highest sale method used on a customer with the Call method in second at 4,962 - a 2,504 difference."
   ]
  },
  {
   "cell_type": "code",
   "execution_count": 6,
   "id": "538ee62a",
   "metadata": {},
   "outputs": [
    {
     "data": {
      "text/plain": [
       "Email           7466\n",
       "Call            4962\n",
       "Email + Call    2572\n",
       "Name: sales_method, dtype: int64"
      ]
     },
     "execution_count": 6,
     "metadata": {},
     "output_type": "execute_result"
    }
   ],
   "source": [
    "#correcting the values in sales_method\n",
    "product_sales['sales_method'] = product_sales['sales_method'].replace('em + call', 'Email + Call')\n",
    "product_sales['sales_method'] = product_sales['sales_method'].replace('email', 'Email')\n",
    "\n",
    "#sanity check\n",
    "product_sales['sales_method'].value_counts()"
   ]
  },
  {
   "cell_type": "code",
   "execution_count": 8,
   "id": "d0062938",
   "metadata": {},
   "outputs": [
    {
     "data": {
      "text/plain": [
       "0    2e72d641-95ac-497b-bbf8-4861764a7097\n",
       "1    3998a98d-70f5-44f7-942e-789bb8ad2fe7\n",
       "2    d1de9884-8059-4065-b10f-86eef57e4a44\n",
       "3    78aa75a4-ffeb-4817-b1d0-2f030783c5d7\n",
       "4    10e6d446-10a5-42e5-8210-1b5438f70922\n",
       "Name: customer_id, dtype: object"
      ]
     },
     "metadata": {},
     "output_type": "display_data"
    },
    {
     "data": {
      "text/plain": [
       "14995    17267b41-d048-4346-8b90-7f787690a836\n",
       "14996    09e10d6f-4508-4b27-895e-4db11ce8302b\n",
       "14997    839653cb-68c9-48cb-a097-0a5a3b2b298b\n",
       "14998    e4dad70a-b23b-407c-8bd3-e32ea00fae17\n",
       "14999    4e077235-7c17-4054-9997-7a890336a214\n",
       "Name: customer_id, dtype: object"
      ]
     },
     "metadata": {},
     "output_type": "display_data"
    }
   ],
   "source": [
    "display(product_sales['customer_id'].head())\n",
    "\n",
    "display(product_sales['customer_id'].tail())"
   ]
  },
  {
   "cell_type": "markdown",
   "id": "d85841a5",
   "metadata": {},
   "source": [
    "Since `customer_id` is a unique identifier for the customer and there are no missing values, no cleaning is needed."
   ]
  },
  {
   "cell_type": "code",
   "execution_count": 9,
   "id": "e83c6883",
   "metadata": {
    "executionTime": 10,
    "lastSuccessfullyExecutedCode": "#examing the nb_sold attribute\nproduct_sales['nb_sold'].value_counts()",
    "scrolled": true
   },
   "outputs": [
    {
     "data": {
      "text/plain": [
       "10    3677\n",
       "9     3535\n",
       "11    2439\n",
       "8     1941\n",
       "12    1088\n",
       "13     939\n",
       "7      698\n",
       "15     555\n",
       "14      97\n",
       "16      31\n",
       "Name: nb_sold, dtype: int64"
      ]
     },
     "execution_count": 9,
     "metadata": {},
     "output_type": "execute_result"
    }
   ],
   "source": [
    "#examing the nb_sold attribute\n",
    "product_sales['nb_sold'].value_counts()"
   ]
  },
  {
   "cell_type": "markdown",
   "id": "0198152d",
   "metadata": {},
   "source": [
    "`nb_sold`: number of new products sold. There are 10 unique values. With a max of 16 new products sold for a customer. To maximize the number of new products sold can futher explore those values of `nb_sold`. However when looking at the highest amount of products sold - 10 there is a big difference between the amount of customers which bought 10 versus 16. 9 is a close second."
   ]
  },
  {
   "cell_type": "code",
   "execution_count": 10,
   "id": "44646408",
   "metadata": {
    "executionTime": 0,
    "lastSuccessfullyExecutedCode": "#examing the years_as_customer attribute\nproduct_sales['years_as_customer'].value_counts()"
   },
   "outputs": [
    {
     "data": {
      "text/plain": [
       "1     2504\n",
       "2     1987\n",
       "3     1619\n",
       "0     1471\n",
       "4     1338\n",
       "5     1118\n",
       "6      918\n",
       "7      709\n",
       "8      608\n",
       "9      509\n",
       "10     405\n",
       "11     318\n",
       "12     284\n",
       "13     239\n",
       "14     167\n",
       "15     150\n",
       "16     123\n",
       "17      88\n",
       "18      82\n",
       "19      58\n",
       "20      54\n",
       "22      43\n",
       "21      37\n",
       "24      27\n",
       "26      22\n",
       "23      21\n",
       "25      19\n",
       "27      15\n",
       "30       9\n",
       "34       8\n",
       "33       8\n",
       "28       8\n",
       "31       6\n",
       "35       5\n",
       "29       5\n",
       "32       5\n",
       "36       4\n",
       "39       3\n",
       "37       2\n",
       "38       2\n",
       "47       1\n",
       "63       1\n",
       "Name: years_as_customer, dtype: int64"
      ]
     },
     "metadata": {},
     "output_type": "display_data"
    },
    {
     "data": {
      "text/plain": [
       "42"
      ]
     },
     "metadata": {},
     "output_type": "display_data"
    }
   ],
   "source": [
    "#examing the years_as_customer attribute\n",
    "display(product_sales['years_as_customer'].value_counts())\n",
    "display(len(product_sales['years_as_customer'].value_counts()))"
   ]
  },
  {
   "cell_type": "markdown",
   "id": "59cf9845",
   "metadata": {},
   "source": [
    "`years_as_customer`: number of years customer has been buying from Pens and Printers, the company was founded in 1984. At the time of this analysis it is 2023, 1984 was 39 years ago. Therefore there are some values that do not fit within the correct range. More customers tend to be newer customers with the higher amount of customers being within the 0 to 4 years as customers with 1 being the highest at 2,504 customers.  \n"
   ]
  },
  {
   "cell_type": "code",
   "execution_count": 11,
   "id": "9b2ae9b8",
   "metadata": {},
   "outputs": [
    {
     "data": {
      "text/html": [
       "<div>\n",
       "<style scoped>\n",
       "    .dataframe tbody tr th:only-of-type {\n",
       "        vertical-align: middle;\n",
       "    }\n",
       "\n",
       "    .dataframe tbody tr th {\n",
       "        vertical-align: top;\n",
       "    }\n",
       "\n",
       "    .dataframe thead th {\n",
       "        text-align: right;\n",
       "    }\n",
       "</style>\n",
       "<table border=\"1\" class=\"dataframe\">\n",
       "  <thead>\n",
       "    <tr style=\"text-align: right;\">\n",
       "      <th></th>\n",
       "      <th>week</th>\n",
       "      <th>sales_method</th>\n",
       "      <th>customer_id</th>\n",
       "      <th>nb_sold</th>\n",
       "      <th>revenue</th>\n",
       "      <th>years_as_customer</th>\n",
       "      <th>nb_site_visits</th>\n",
       "      <th>state</th>\n",
       "    </tr>\n",
       "  </thead>\n",
       "  <tbody>\n",
       "    <tr>\n",
       "      <th>13741</th>\n",
       "      <td>2</td>\n",
       "      <td>Email</td>\n",
       "      <td>18919515-a618-430c-9a05-2c7d8fea96af</td>\n",
       "      <td>10</td>\n",
       "      <td>97.22</td>\n",
       "      <td>63</td>\n",
       "      <td>24</td>\n",
       "      <td>California</td>\n",
       "    </tr>\n",
       "    <tr>\n",
       "      <th>13800</th>\n",
       "      <td>4</td>\n",
       "      <td>Call</td>\n",
       "      <td>2ea97d34-571d-4e1b-95be-fea1c404649f</td>\n",
       "      <td>10</td>\n",
       "      <td>50.47</td>\n",
       "      <td>47</td>\n",
       "      <td>27</td>\n",
       "      <td>California</td>\n",
       "    </tr>\n",
       "  </tbody>\n",
       "</table>\n",
       "</div>"
      ],
      "text/plain": [
       "       week sales_method                           customer_id  nb_sold  \\\n",
       "13741     2        Email  18919515-a618-430c-9a05-2c7d8fea96af       10   \n",
       "13800     4         Call  2ea97d34-571d-4e1b-95be-fea1c404649f       10   \n",
       "\n",
       "       revenue  years_as_customer  nb_site_visits       state  \n",
       "13741    97.22                 63              24  California  \n",
       "13800    50.47                 47              27  California  "
      ]
     },
     "execution_count": 11,
     "metadata": {},
     "output_type": "execute_result"
    }
   ],
   "source": [
    "#instance where the years_as_customer value is greater than 39\n",
    "product_sales[product_sales['years_as_customer'] > 39]"
   ]
  },
  {
   "cell_type": "markdown",
   "id": "cbbce270",
   "metadata": {},
   "source": [
    "There are only 2 instances that are greater than 39, will remove these since there is no right way of imputing these values unless I use the mode but again there are only 2. Therefore I will just remove these values."
   ]
  },
  {
   "cell_type": "code",
   "execution_count": 12,
   "id": "2cd3ccbf",
   "metadata": {
    "executionTime": 12,
    "lastSuccessfullyExecutedCode": "product_sales.drop(product_sales[product_sales['years_as_customer'] > 39].index, inplace=True)\n\n#sanity check\nproduct_sales[product_sales['years_as_customer'] > 39]"
   },
   "outputs": [
    {
     "data": {
      "text/html": [
       "<div>\n",
       "<style scoped>\n",
       "    .dataframe tbody tr th:only-of-type {\n",
       "        vertical-align: middle;\n",
       "    }\n",
       "\n",
       "    .dataframe tbody tr th {\n",
       "        vertical-align: top;\n",
       "    }\n",
       "\n",
       "    .dataframe thead th {\n",
       "        text-align: right;\n",
       "    }\n",
       "</style>\n",
       "<table border=\"1\" class=\"dataframe\">\n",
       "  <thead>\n",
       "    <tr style=\"text-align: right;\">\n",
       "      <th></th>\n",
       "      <th>week</th>\n",
       "      <th>sales_method</th>\n",
       "      <th>customer_id</th>\n",
       "      <th>nb_sold</th>\n",
       "      <th>revenue</th>\n",
       "      <th>years_as_customer</th>\n",
       "      <th>nb_site_visits</th>\n",
       "      <th>state</th>\n",
       "    </tr>\n",
       "  </thead>\n",
       "  <tbody>\n",
       "  </tbody>\n",
       "</table>\n",
       "</div>"
      ],
      "text/plain": [
       "Empty DataFrame\n",
       "Columns: [week, sales_method, customer_id, nb_sold, revenue, years_as_customer, nb_site_visits, state]\n",
       "Index: []"
      ]
     },
     "execution_count": 12,
     "metadata": {},
     "output_type": "execute_result"
    }
   ],
   "source": [
    "#dropping instances with year greater than 39\n",
    "product_sales.drop(product_sales[product_sales['years_as_customer'] > 39].index, inplace=True)\n",
    "\n",
    "#sanity check\n",
    "product_sales[product_sales['years_as_customer'] > 39]"
   ]
  },
  {
   "cell_type": "code",
   "execution_count": null,
   "id": "915ef72f",
   "metadata": {},
   "outputs": [],
   "source": [
    "site_visits = product_sales['nb_site_visits'].value_counts()\n",
    "\n",
    "display(site_visits)\n",
    "display(len(site_visits))\n",
    "display(max(site_visits))\n",
    "display(min(site_visits))\n"
   ]
  },
  {
   "cell_type": "code",
   "execution_count": null,
   "id": "a5f9bb07",
   "metadata": {
    "executionTime": 0,
    "lastSuccessfullyExecutedCode": "product_sales[product_sales['years_as_customer'] > 39]"
   },
   "outputs": [],
   "source": [
    "product_sales[product_sales['years_as_customer'] > 39]"
   ]
  },
  {
   "cell_type": "markdown",
   "id": "c408fcc1",
   "metadata": {},
   "source": [
    "Since only two instances are greater than 39 and I don't really have a way of finding out the correct year of the customer will just remove these 2. "
   ]
  },
  {
   "cell_type": "code",
   "execution_count": null,
   "id": "0e713cc0",
   "metadata": {
    "executionTime": 0,
    "lastSuccessfullyExecutedCode": "#sanity check\nproduct_sales['years_as_customer'].value_counts()"
   },
   "outputs": [],
   "source": [
    "#sanity check\n",
    "product_sales['years_as_customer'].value_counts()"
   ]
  },
  {
   "cell_type": "code",
   "execution_count": null,
   "id": "d7f236e3",
   "metadata": {
    "executionTime": 0,
    "lastSuccessfullyExecutedCode": "#examing the nb_site_visits attribute\nproduct_sales['nb_site_visits'].value_counts()"
   },
   "outputs": [],
   "source": [
    "#examing the nb_site_visits attribute\n",
    "product_sales['nb_site_visits'].value_counts()"
   ]
  },
  {
   "cell_type": "code",
   "execution_count": null,
   "id": "c43e1d7f",
   "metadata": {
    "executionTime": 0,
    "lastSuccessfullyExecutedCode": "#examining the customer_id attribute to make sure all the customer_id are unique\nlen(product_sales['customer_id'].unique())"
   },
   "outputs": [],
   "source": [
    "#examining the customer_id attribute to make sure all the customer_id are unique\n",
    "len(product_sales['customer_id'].unique())"
   ]
  },
  {
   "cell_type": "markdown",
   "id": "9e19835a",
   "metadata": {},
   "source": [
    "This is the right amount since dropped those 2 rows whose year did not match. "
   ]
  },
  {
   "cell_type": "code",
   "execution_count": null,
   "id": "4d4d4a19",
   "metadata": {
    "executionTime": 5,
    "lastSuccessfullyExecutedCode": "#examing the state attribute\ndisplay(product_sales['state'].value_counts())\n\ndisplay(len(product_sales['state'].unique()))"
   },
   "outputs": [],
   "source": [
    "#examing the state attribute\n",
    "display(product_sales['state'].value_counts())\n",
    "\n",
    "display(len(product_sales['state'].unique()))"
   ]
  },
  {
   "cell_type": "markdown",
   "id": "cb707aa4",
   "metadata": {},
   "source": [
    "Look at distributions\n",
    "Look at relationship between sales_method and revenue\n",
    "impute missing values for revenue \n",
    "look at relationship between years_as_customer and revenue\n",
    "groupby on sales_method and revenue"
   ]
  },
  {
   "cell_type": "code",
   "execution_count": null,
   "id": "f6e6856a",
   "metadata": {
    "chartConfig": {
     "bar": {
      "hasRoundedCorners": true,
      "stacked": false
     },
     "type": "bar",
     "version": "v1"
    },
    "executionTime": 11,
    "lastSuccessfullyExecutedCode": "#description of dataframe \nproduct_sales.describe()",
    "visualizeDataframe": false
   },
   "outputs": [],
   "source": [
    "#description of dataframe \n",
    "product_sales.describe()"
   ]
  },
  {
   "cell_type": "code",
   "execution_count": null,
   "id": "74224932",
   "metadata": {
    "executionTime": 440,
    "lastSuccessfullyExecutedCode": "#missing values for revenue before imputation\nsns.histplot(data=product_sales, x='revenue');"
   },
   "outputs": [],
   "source": [
    "#missing values for revenue before imputation\n",
    "sns.histplot(data=product_sales, x='revenue');"
   ]
  },
  {
   "cell_type": "markdown",
   "id": "03b27b55",
   "metadata": {},
   "source": [
    "Can see that the bulk of values are on the lower end - 50 to a 100."
   ]
  },
  {
   "cell_type": "code",
   "execution_count": null,
   "id": "7997e402",
   "metadata": {
    "executionTime": 463,
    "lastSuccessfullyExecutedCode": "#grabbing the rows which have the missing values of revenue in setting it to another dataframe to see which methods have the highest value count\nmissing = product_sales[product_sales['revenue'].isna()]\n\nmissing"
   },
   "outputs": [],
   "source": [
    "#grabbing the rows which have the missing values of revenue in setting it to another dataframe to see which methods have the highest value count\n",
    "missing = product_sales[product_sales['revenue'].isna()]\n",
    "\n",
    "missing"
   ]
  },
  {
   "cell_type": "code",
   "execution_count": null,
   "id": "65f37d21",
   "metadata": {
    "executionTime": 0,
    "lastSuccessfullyExecutedCode": "#checking value count of sales_method in missing dataframe\n#unnormalized\ndisplay(missing['sales_method'].value_counts())\n\n#normalized\ndisplay(missing['sales_method'].value_counts(normalize=True))"
   },
   "outputs": [],
   "source": [
    "#checking value count of sales_method in missing dataframe\n",
    "#unnormalized\n",
    "display(missing['sales_method'].value_counts())\n",
    "\n",
    "#normalized\n",
    "display(missing['sales_method'].value_counts(normalize=True))"
   ]
  },
  {
   "cell_type": "markdown",
   "id": "6eb79a7d",
   "metadata": {},
   "source": [
    "From here can see that the missing values of revenue are more frequent with the sales_method Email at 50.7%. However, email is the most frequently used sales_method according to the missing dataframe and the product_sales dataframe which could be why it has the most missing revenue values."
   ]
  },
  {
   "cell_type": "code",
   "execution_count": null,
   "id": "952b4191",
   "metadata": {},
   "outputs": [],
   "source": [
    "product_sales['revenue'].value_counts()"
   ]
  },
  {
   "cell_type": "code",
   "execution_count": null,
   "id": "7ddf59ce",
   "metadata": {
    "executionTime": 0,
    "lastSuccessfullyExecutedCode": "#imputing the missing values of revenue with the median value\nproduct_sales['revenue'] = product_sales['revenue'].fillna(product_sales['revenue'].median())\n\n#sanity check\nproduct_sales.isna().sum()"
   },
   "outputs": [],
   "source": [
    "#imputing the missing values of revenue with the median value\n",
    "product_sales['revenue'] = product_sales['revenue'].fillna(product_sales['revenue'].median())\n",
    "\n",
    "#sanity check\n",
    "product_sales.isna().sum()"
   ]
  },
  {
   "cell_type": "code",
   "execution_count": null,
   "id": "e8b1449d",
   "metadata": {
    "executionTime": 9,
    "lastSuccessfullyExecutedCode": "#checking specific customer_id\nproduct_sales[product_sales['customer_id'] == '2e72d641-95ac-497b-bbf8-4861764a7097']"
   },
   "outputs": [],
   "source": [
    "#checking specific customer_id\n",
    "product_sales[product_sales['customer_id'] == '2e72d641-95ac-497b-bbf8-4861764a7097']"
   ]
  },
  {
   "cell_type": "markdown",
   "id": "e880fb47",
   "metadata": {},
   "source": [
    "Null values have been replaced with the median of revenue which was 89.5. The reason the median was chosen is because don't want the data to be skewed towards potential outliers of the revenue."
   ]
  },
  {
   "cell_type": "code",
   "execution_count": null,
   "id": "6cbb8d94",
   "metadata": {
    "executionTime": 0,
    "lastSuccessfullyExecutedCode": "#grouping revenue by sales method\nproduct_sales.groupby('sales_method')['revenue'].agg(['sum', 'median', 'mean'])"
   },
   "outputs": [],
   "source": [
    "#grouping revenue by sales method\n",
    "product_sales.groupby('sales_method')['revenue'].agg(['sum', 'median', 'mean'])"
   ]
  },
  {
   "cell_type": "markdown",
   "id": "e15e5893",
   "metadata": {},
   "source": [
    "The sum of the revenue is the highest for Email which lines up since it the most frequently used sales method. However, for the the others - median and mean - Email + Call have the highest revenue which is an interesting find. Putting in the effort to use call and email seems to pay off. "
   ]
  },
  {
   "cell_type": "code",
   "execution_count": null,
   "id": "513eb3a9",
   "metadata": {
    "executionTime": 0,
    "lastSuccessfullyExecutedCode": "product_sales.groupby('week')['revenue'].agg(['sum', 'median', 'mean'])"
   },
   "outputs": [],
   "source": [
    "product_sales.groupby('week')['revenue'].agg(['sum', 'median', 'mean'])"
   ]
  },
  {
   "cell_type": "markdown",
   "id": "12ace2c8",
   "metadata": {},
   "source": [
    "Here we can see that the earlier after the product launch the more sales happen. It is interesting to see that that they lower at week 3 they rise again at week 4. With week 5 being the second highest after week 1 in total revenue. The total revenue drops again at week 6. \n",
    "\n",
    "Another interesting takeway here is the median is highest for week 6 as well as the mean (which could be do an outlier). The median tends to rise with the week; except for at week 3 where there is a lull in revenue. The same is said for the mean of the revenue. "
   ]
  },
  {
   "cell_type": "markdown",
   "id": "2bd30c61",
   "metadata": {},
   "source": [
    "TO DO List for 02/23\n",
    "- look at the relationship between revenue and the each of the other columns (do the top 5 for the customers and the last ones) \n",
    "- relationship between customers and state\n",
    "- `nb_sold`: numeric, number of new products sold\n",
    "- `week`: week sale was made, counted as week since product launch\n",
    "- `nb_site_visits`: numeric, number of times the customer has visited the website in the past 6 months \n",
    "- also fix the years since there is some that does not make sense"
   ]
  },
  {
   "cell_type": "code",
   "execution_count": null,
   "id": "6ce81bb9",
   "metadata": {
    "executionTime": 327,
    "lastSuccessfullyExecutedCode": "#plotting the relationship with the top 5 funder groups and status group  \nplt.figure(figsize=(15,7))\nsns.barplot(data=product_sales, x='week', y='revenue', hue='sales_method')\nplt.title('Revenue By Week Sales Method');"
   },
   "outputs": [],
   "source": [
    "#plotting the relationship with the top 5 funder groups and status group  \n",
    "plt.figure(figsize=(15,7))\n",
    "sns.barplot(data=product_sales, x='week', y='revenue', hue='sales_method')\n",
    "plt.title('Revenue By Week Sales Method');"
   ]
  },
  {
   "cell_type": "markdown",
   "id": "e575e729",
   "metadata": {},
   "source": [
    "As shown in the graph above revenue, increases as the weeks progress and the revenue is higher with the sale method of Email + Call. "
   ]
  },
  {
   "cell_type": "code",
   "execution_count": null,
   "id": "3f67aa03",
   "metadata": {
    "executionTime": 1293,
    "lastSuccessfullyExecutedCode": "plt.figure(figsize=(15,7))\nsns.scatterplot(data=product_sales, x='years_as_customer', y='revenue', hue='sales_method')\nplt.title('Revenue By Years as Customer -  Sales Method');"
   },
   "outputs": [],
   "source": [
    "plt.figure(figsize=(15,7))\n",
    "sns.scatterplot(data=product_sales, x='years_as_customer', y='revenue', hue='sales_method')\n",
    "plt.title('Revenue By Years as Customer -  Sales Method');"
   ]
  },
  {
   "cell_type": "markdown",
   "id": "7af8624b",
   "metadata": {},
   "source": [
    "Although this is not a very good visual. This is quite interesting to see the revenue  difference for the sales method due to the obivious separation between them. With call sales method bringing in the less revenue. "
   ]
  },
  {
   "cell_type": "code",
   "execution_count": null,
   "id": "8b0f0b1e",
   "metadata": {
    "executionTime": 673,
    "lastSuccessfullyExecutedCode": "plt.figure(figsize=(15,7))\nsns.barplot(data=product_sales, x='years_as_customer', y='revenue', hue='sales_method', order=product_sales.years_as_customer.value_counts().iloc[:10].index)\nplt.title('Revenue By Years as Customer -  Sales Method');"
   },
   "outputs": [],
   "source": [
    "plt.figure(figsize=(15,7))\n",
    "sns.barplot(data=product_sales, x='years_as_customer', y='revenue', hue='sales_method', order=product_sales.years_as_customer.value_counts().iloc[:10].index)\n",
    "plt.title('Revenue By Years as Customer -  Sales Method');"
   ]
  },
  {
   "cell_type": "markdown",
   "id": "5e5bb7f8",
   "metadata": {},
   "source": [
    "From this chart can see that newer customers tend to spend more with 1, 2, and 3 not having much of a difference between them. Let's look at the bottom ten years."
   ]
  },
  {
   "cell_type": "code",
   "execution_count": null,
   "id": "f91c2b9b",
   "metadata": {
    "executionTime": 608,
    "lastSuccessfullyExecutedCode": "plt.figure(figsize=(15,7))\nsns.barplot(data=product_sales, x='years_as_customer', y='revenue', hue='sales_method', order=product_sales.years_as_customer.value_counts().iloc[-10:].index)\nplt.title('Revenue By Years as Customer -  Sales Method');"
   },
   "outputs": [],
   "source": [
    "plt.figure(figsize=(15,7))\n",
    "sns.barplot(data=product_sales, x='years_as_customer', y='revenue', hue='sales_method', order=product_sales.years_as_customer.value_counts().iloc[-10:].index)\n",
    "plt.title('Revenue By Years as Customer -  Sales Method');"
   ]
  },
  {
   "cell_type": "markdown",
   "id": "1a15497e",
   "metadata": {},
   "source": [
    "Here we can see that older customers have the lesser revenues. Another interesting find is that most of these execpt for years - 29, 39, &, 37 - the sales method Email + Call are not used. Which I found out previously that the method brings in more revenue than the others. "
   ]
  },
  {
   "cell_type": "code",
   "execution_count": null,
   "id": "9b03532f",
   "metadata": {
    "executionTime": 1029,
    "lastSuccessfullyExecutedCode": "plt.figure(figsize=(15,7))\nsns.barplot(data=product_sales, x='state', y='revenue', hue='sales_method', order=product_sales.state.value_counts().iloc[:10].index)\nplt.title('Revenue By State -  Sales Method');"
   },
   "outputs": [],
   "source": [
    "plt.figure(figsize=(15,7))\n",
    "sns.barplot(data=product_sales, x='state', y='revenue', hue='sales_method', order=product_sales.state.value_counts().iloc[:10].index)\n",
    "plt.title('Revenue By State -  Sales Method');"
   ]
  },
  {
   "cell_type": "markdown",
   "id": "b7a6d1d8",
   "metadata": {},
   "source": [
    "Shown from the chart can see that California has the most sales. Also can see that Email+Call tends to bring in the highest revenue once again; therefore this is a good sales method to focus on when bringing this into the recommendations."
   ]
  },
  {
   "cell_type": "code",
   "execution_count": null,
   "id": "c5d34157",
   "metadata": {
    "executionTime": 0,
    "lastSuccessfullyExecutedCode": "product_sales.groupby('state')['revenue'].agg(['sum', 'median', 'mean'])"
   },
   "outputs": [],
   "source": [
    "product_sales.groupby('state')['revenue'].agg(['sum', 'median', 'mean'])"
   ]
  },
  {
   "cell_type": "markdown",
   "id": "434e25d8",
   "metadata": {},
   "source": [
    "Can see that in the sum the state with largest revenue is California, for the median the state is South Dakota, and for the mean is is also South Dakota. South Dakota has a low sum; however, with 4249.19. "
   ]
  },
  {
   "cell_type": "code",
   "execution_count": null,
   "id": "04719c7d",
   "metadata": {
    "executionTime": 17,
    "lastSuccessfullyExecutedCode": "product_sales.groupby('state')['years_as_customer'].agg('sum').sort_values(ascending=False)\n\n"
   },
   "outputs": [],
   "source": [
    "product_sales.groupby('state')['years_as_customer'].agg('sum').sort_values(ascending=False)"
   ]
  },
  {
   "cell_type": "markdown",
   "id": "18a572b9",
   "metadata": {},
   "source": [
    "Looking at this groupby can see that the top 5 states are California, Texas, New York, Florida, and Pennsylvania for how the amount of time their customers have been their customers. This list almost matches exactly with what the revenue is by state - cutt by sales method."
   ]
  },
  {
   "cell_type": "code",
   "execution_count": null,
   "id": "d4e2e976",
   "metadata": {
    "executionTime": 19,
    "lastSuccessfullyExecutedCode": "state = product_sales.groupby('state')\n\ncali = state.get_group('California')\n\ncali['years_as_customer'].value_counts()"
   },
   "outputs": [],
   "source": [
    "state = product_sales.groupby('state')\n",
    "\n",
    "cali = state.get_group('California')\n",
    "\n",
    "cali['years_as_customer'].value_counts()"
   ]
  },
  {
   "cell_type": "markdown",
   "id": "4dff70bf",
   "metadata": {},
   "source": [
    "Most of the customers from California - the state that has most of the customers and highest revenue - have been their customer in 0 and 6 years. With most being a customer for one year with 323 a big difference between the two years as customers at 250. However, what can be done to keep older customers as interested in willing to pay more? Maybe the sales method need to change?"
   ]
  },
  {
   "cell_type": "code",
   "execution_count": null,
   "id": "b010a504",
   "metadata": {
    "executionTime": 28,
    "lastSuccessfullyExecutedCode": "#customer_id, years_as_customer, state\nproduct_sales.head()"
   },
   "outputs": [],
   "source": [
    "#customer_id, years_as_customer, state\n",
    "product_sales.head()"
   ]
  },
  {
   "cell_type": "code",
   "execution_count": null,
   "id": "f74103ee",
   "metadata": {
    "executionTime": 46,
    "lastSuccessfullyExecutedCode": "#relationship with week, years_as_customer, revenue, and state\nweek = product_sales[['week', 'years_as_customer', 'revenue', 'state']]\nweek.head()"
   },
   "outputs": [],
   "source": [
    "#relationship with week, years_as_customer, revenue, and state\n",
    "week = product_sales[['week', 'years_as_customer', 'revenue', 'state']]\n",
    "week.head()"
   ]
  },
  {
   "cell_type": "code",
   "execution_count": null,
   "id": "122f49b2",
   "metadata": {
    "executionTime": 44,
    "lastSuccessfullyExecutedCode": "hello = week.groupby(['week', 'years_as_customer', 'state'])['revenue'].agg(['sum', 'median', 'mean'])\n\nhello.get_group(1)"
   },
   "outputs": [],
   "source": [
    "hello = week.groupby(['week', 'years_as_customer', 'state'])['revenue'].agg(['sum', 'median', 'mean'])\n",
    "\n",
    "hello.head()"
   ]
  },
  {
   "cell_type": "code",
   "execution_count": null,
   "id": "2ad3c676",
   "metadata": {},
   "outputs": [],
   "source": []
  }
 ],
 "metadata": {
  "colab": {
   "name": "Welcome to DataCamp Workspaces.ipynb",
   "provenance": []
  },
  "kernelspec": {
   "display_name": "Python 3",
   "language": "python",
   "name": "python3"
  },
  "language_info": {
   "codemirror_mode": {
    "name": "ipython",
    "version": 3
   },
   "file_extension": ".py",
   "mimetype": "text/x-python",
   "name": "python",
   "nbconvert_exporter": "python",
   "pygments_lexer": "ipython3",
   "version": "3.8.5"
  }
 },
 "nbformat": 4,
 "nbformat_minor": 5
}
