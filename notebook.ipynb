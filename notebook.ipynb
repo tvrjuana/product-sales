{
 "cells": [
  {
   "cell_type": "markdown",
   "id": "a7b4e6b2",
   "metadata": {},
   "source": [
    "# Data Analyst Professional Practical Exam Submission\n",
    "\n",
    "**You can use any tool that you want to do your analysis and create visualizations. Use this template to write up your summary for submission.**\n",
    "\n",
    "You can use any markdown formatting you wish. If you are not familiar with Markdown, read the [Markdown Guide](https://s3.amazonaws.com/talent-assets.datacamp.com/Markdown+Guide.pdf) before you start.\n"
   ]
  },
  {
   "cell_type": "markdown",
   "id": "6584bf0d",
   "metadata": {},
   "source": [
    "## 📝 Task List\n",
    "\n",
    "Your written report should include written text summaries and graphics of the following:\n",
    "- Data validation:   \n",
    "  - Describe validation and cleaning steps for every column in the data \n",
    "- Exploratory Analysis:  \n",
    "  - Include two different graphics showing single variables only to demonstrate the characteristics of data  \n",
    "  - Include at least one graphic showing two or more variables to represent the relationship between features\n",
    "  - Describe your findings\n",
    "- Definition of a metric for the business to monitor  \n",
    "  - How should the business use the metric to monitor the business problem\n",
    "  - Can you estimate initial value(s) for the metric based on the current data\n",
    "- Final summary including recommendations that the business should undertake\n",
    "\n",
    "*Start writing report here..*"
   ]
  },
  {
   "cell_type": "markdown",
   "id": "74b97175",
   "metadata": {},
   "source": []
  },
  {
   "cell_type": "markdown",
   "id": "a886858e",
   "metadata": {},
   "source": [
    "## ✅ When you have finished...\n",
    "-  Publish your Workspace using the option on the left\n",
    "-  Check the published version of your report:\n",
    "\t-  Can you see everything you want us to grade?\n",
    "    -  Are all the graphics visible?\n",
    "-  Review the grading rubric. Have you included everything that will be graded?\n",
    "-  Head back to the [Certification Dashboard](https://app.datacamp.com/certification) to submit your practical exam report and record your presentation"
   ]
  },
  {
   "cell_type": "markdown",
   "id": "cf7d9392",
   "metadata": {},
   "source": [
    "## Data Understanding & Validation"
   ]
  },
  {
   "cell_type": "code",
   "execution_count": 1,
   "id": "314cad10",
   "metadata": {
    "executionTime": 3113,
    "lastSuccessfullyExecutedCode": "#importing necessary libraries\nimport pandas as pd\nimport matplotlib.pyplot as plt\nimport seaborn as sns\n\n%matplotlib inline "
   },
   "outputs": [],
   "source": [
    "#importing the necessary libraries\n",
    "import pandas as pd\n",
    "import matplotlib.pyplot as plt\n",
    "import seaborn as sns\n",
    "\n",
    "%matplotlib inline "
   ]
  },
  {
   "cell_type": "code",
   "execution_count": 2,
   "id": "6522a2ce",
   "metadata": {
    "executionTime": 37,
    "lastSuccessfullyExecutedCode": "#reading in csv file\nproduct_sales = pd.read_csv('product_sales.csv')\n\n#displaying first few rows and info\ndisplay(product_sales.head())\nprint('\\n')\ndisplay(product_sales.info())",
    "scrolled": false
   },
   "outputs": [
    {
     "data": {
      "text/html": [
       "<div>\n",
       "<style scoped>\n",
       "    .dataframe tbody tr th:only-of-type {\n",
       "        vertical-align: middle;\n",
       "    }\n",
       "\n",
       "    .dataframe tbody tr th {\n",
       "        vertical-align: top;\n",
       "    }\n",
       "\n",
       "    .dataframe thead th {\n",
       "        text-align: right;\n",
       "    }\n",
       "</style>\n",
       "<table border=\"1\" class=\"dataframe\">\n",
       "  <thead>\n",
       "    <tr style=\"text-align: right;\">\n",
       "      <th></th>\n",
       "      <th>week</th>\n",
       "      <th>sales_method</th>\n",
       "      <th>customer_id</th>\n",
       "      <th>nb_sold</th>\n",
       "      <th>revenue</th>\n",
       "      <th>years_as_customer</th>\n",
       "      <th>nb_site_visits</th>\n",
       "      <th>state</th>\n",
       "    </tr>\n",
       "  </thead>\n",
       "  <tbody>\n",
       "    <tr>\n",
       "      <th>0</th>\n",
       "      <td>2</td>\n",
       "      <td>Email</td>\n",
       "      <td>2e72d641-95ac-497b-bbf8-4861764a7097</td>\n",
       "      <td>10</td>\n",
       "      <td>NaN</td>\n",
       "      <td>0</td>\n",
       "      <td>24</td>\n",
       "      <td>Arizona</td>\n",
       "    </tr>\n",
       "    <tr>\n",
       "      <th>1</th>\n",
       "      <td>6</td>\n",
       "      <td>Email + Call</td>\n",
       "      <td>3998a98d-70f5-44f7-942e-789bb8ad2fe7</td>\n",
       "      <td>15</td>\n",
       "      <td>225.47</td>\n",
       "      <td>1</td>\n",
       "      <td>28</td>\n",
       "      <td>Kansas</td>\n",
       "    </tr>\n",
       "    <tr>\n",
       "      <th>2</th>\n",
       "      <td>5</td>\n",
       "      <td>Call</td>\n",
       "      <td>d1de9884-8059-4065-b10f-86eef57e4a44</td>\n",
       "      <td>11</td>\n",
       "      <td>52.55</td>\n",
       "      <td>6</td>\n",
       "      <td>26</td>\n",
       "      <td>Wisconsin</td>\n",
       "    </tr>\n",
       "    <tr>\n",
       "      <th>3</th>\n",
       "      <td>4</td>\n",
       "      <td>Email</td>\n",
       "      <td>78aa75a4-ffeb-4817-b1d0-2f030783c5d7</td>\n",
       "      <td>11</td>\n",
       "      <td>NaN</td>\n",
       "      <td>3</td>\n",
       "      <td>25</td>\n",
       "      <td>Indiana</td>\n",
       "    </tr>\n",
       "    <tr>\n",
       "      <th>4</th>\n",
       "      <td>3</td>\n",
       "      <td>Email</td>\n",
       "      <td>10e6d446-10a5-42e5-8210-1b5438f70922</td>\n",
       "      <td>9</td>\n",
       "      <td>90.49</td>\n",
       "      <td>0</td>\n",
       "      <td>28</td>\n",
       "      <td>Illinois</td>\n",
       "    </tr>\n",
       "  </tbody>\n",
       "</table>\n",
       "</div>"
      ],
      "text/plain": [
       "   week  sales_method                           customer_id  nb_sold  revenue  \\\n",
       "0     2         Email  2e72d641-95ac-497b-bbf8-4861764a7097       10      NaN   \n",
       "1     6  Email + Call  3998a98d-70f5-44f7-942e-789bb8ad2fe7       15   225.47   \n",
       "2     5          Call  d1de9884-8059-4065-b10f-86eef57e4a44       11    52.55   \n",
       "3     4         Email  78aa75a4-ffeb-4817-b1d0-2f030783c5d7       11      NaN   \n",
       "4     3         Email  10e6d446-10a5-42e5-8210-1b5438f70922        9    90.49   \n",
       "\n",
       "   years_as_customer  nb_site_visits      state  \n",
       "0                  0              24    Arizona  \n",
       "1                  1              28     Kansas  \n",
       "2                  6              26  Wisconsin  \n",
       "3                  3              25    Indiana  \n",
       "4                  0              28   Illinois  "
      ]
     },
     "metadata": {},
     "output_type": "display_data"
    },
    {
     "name": "stdout",
     "output_type": "stream",
     "text": [
      "\n",
      "\n",
      "<class 'pandas.core.frame.DataFrame'>\n",
      "RangeIndex: 15000 entries, 0 to 14999\n",
      "Data columns (total 8 columns):\n",
      " #   Column             Non-Null Count  Dtype  \n",
      "---  ------             --------------  -----  \n",
      " 0   week               15000 non-null  int64  \n",
      " 1   sales_method       15000 non-null  object \n",
      " 2   customer_id        15000 non-null  object \n",
      " 3   nb_sold            15000 non-null  int64  \n",
      " 4   revenue            13926 non-null  float64\n",
      " 5   years_as_customer  15000 non-null  int64  \n",
      " 6   nb_site_visits     15000 non-null  int64  \n",
      " 7   state              15000 non-null  object \n",
      "dtypes: float64(1), int64(4), object(3)\n",
      "memory usage: 937.6+ KB\n"
     ]
    },
    {
     "data": {
      "text/plain": [
       "None"
      ]
     },
     "metadata": {},
     "output_type": "display_data"
    }
   ],
   "source": [
    "#reading in csv file\n",
    "product_sales = pd.read_csv('product_sales.csv')\n",
    "\n",
    "#displaying first few rows and info\n",
    "display(product_sales.head())\n",
    "print('\\n')\n",
    "display(product_sales.info())"
   ]
  },
  {
   "cell_type": "markdown",
   "id": "9439c204",
   "metadata": {},
   "source": [
    "In this dataset have a total of 15,000 entries and 8 columns. Only one column has null values - `revenue`."
   ]
  },
  {
   "cell_type": "code",
   "execution_count": 3,
   "id": "12ab10c8",
   "metadata": {
    "executionTime": 11,
    "lastSuccessfullyExecutedCode": "#amount of null values  \nproduct_sales.isna().sum()"
   },
   "outputs": [
    {
     "data": {
      "text/plain": [
       "1074"
      ]
     },
     "execution_count": 3,
     "metadata": {},
     "output_type": "execute_result"
    }
   ],
   "source": [
    "#amount of null values for the revenue column  \n",
    "product_sales['revenue'].isna().sum()"
   ]
  },
  {
   "cell_type": "markdown",
   "id": "40232285",
   "metadata": {},
   "source": [
    "The column, `revenue`, is missing 1,074 from a total of 15,000. The missing values accounts for 7.16% of the data. Will impute the missing values instead of deleting them because the dataset is already small. Most likely will be the median value due to the mean being susceptible to outliers.\n",
    "\n",
    "### Examination of Each Attribute"
   ]
  },
  {
   "cell_type": "code",
   "execution_count": 4,
   "id": "36be022f",
   "metadata": {},
   "outputs": [
    {
     "data": {
      "text/plain": [
       "1    3721\n",
       "4    2575\n",
       "5    2574\n",
       "2    2491\n",
       "3    2411\n",
       "6    1228\n",
       "Name: week, dtype: int64"
      ]
     },
     "execution_count": 4,
     "metadata": {},
     "output_type": "execute_result"
    }
   ],
   "source": [
    "#examining the week attribute \n",
    "product_sales['week'].value_counts()"
   ]
  },
  {
   "cell_type": "markdown",
   "id": "92156c53",
   "metadata": {},
   "source": [
    "`week`: week the sale was made, counted as week since product launch. There are 6 unique values. From here can see that the most sales are made in the 1st week of the product launch, with the 6th week having the lowest sales. However, the amount of sales does not follow the time chronologically with the 4th week since the product launch being the second highest and the 3rd week being the second lowest."
   ]
  },
  {
   "cell_type": "code",
   "execution_count": 5,
   "id": "60099453",
   "metadata": {
    "executionTime": 0,
    "lastSuccessfullyExecutedCode": "#examining target value - sales_method \nproduct_sales['sales_method'].value_counts()"
   },
   "outputs": [
    {
     "data": {
      "text/plain": [
       "Email           7456\n",
       "Call            4962\n",
       "Email + Call    2549\n",
       "em + call         23\n",
       "email             10\n",
       "Name: sales_method, dtype: int64"
      ]
     },
     "execution_count": 5,
     "metadata": {},
     "output_type": "execute_result"
    }
   ],
   "source": [
    "#examining sales_method attribute\n",
    "product_sales['sales_method'].value_counts()"
   ]
  },
  {
   "cell_type": "markdown",
   "id": "e8819c1f",
   "metadata": {},
   "source": [
    "`sales_method`: sales method used for the customer. There are 3 methods. However there has to be some cleaning up since em + call can go under Email + Call and email goes under Email. Though even with changes can see that Email will still be the highest sale method used on a customer with the Call method in second at 4,962 - a 2,504 difference."
   ]
  },
  {
   "cell_type": "code",
   "execution_count": 6,
   "id": "47e2f568",
   "metadata": {},
   "outputs": [
    {
     "data": {
      "text/plain": [
       "Email           7466\n",
       "Call            4962\n",
       "Email + Call    2572\n",
       "Name: sales_method, dtype: int64"
      ]
     },
     "execution_count": 6,
     "metadata": {},
     "output_type": "execute_result"
    }
   ],
   "source": [
    "#correcting the values in sales_method\n",
    "product_sales['sales_method'] = product_sales['sales_method'].replace('em + call', 'Email + Call')\n",
    "product_sales['sales_method'] = product_sales['sales_method'].replace('email', 'Email')\n",
    "\n",
    "#sanity check\n",
    "product_sales['sales_method'].value_counts()"
   ]
  },
  {
   "cell_type": "code",
   "execution_count": 7,
   "id": "bbe2ce6f",
   "metadata": {},
   "outputs": [
    {
     "data": {
      "text/plain": [
       "0    2e72d641-95ac-497b-bbf8-4861764a7097\n",
       "1    3998a98d-70f5-44f7-942e-789bb8ad2fe7\n",
       "2    d1de9884-8059-4065-b10f-86eef57e4a44\n",
       "3    78aa75a4-ffeb-4817-b1d0-2f030783c5d7\n",
       "4    10e6d446-10a5-42e5-8210-1b5438f70922\n",
       "Name: customer_id, dtype: object"
      ]
     },
     "metadata": {},
     "output_type": "display_data"
    },
    {
     "data": {
      "text/plain": [
       "14995    17267b41-d048-4346-8b90-7f787690a836\n",
       "14996    09e10d6f-4508-4b27-895e-4db11ce8302b\n",
       "14997    839653cb-68c9-48cb-a097-0a5a3b2b298b\n",
       "14998    e4dad70a-b23b-407c-8bd3-e32ea00fae17\n",
       "14999    4e077235-7c17-4054-9997-7a890336a214\n",
       "Name: customer_id, dtype: object"
      ]
     },
     "metadata": {},
     "output_type": "display_data"
    }
   ],
   "source": [
    "#examining the customer_id attribute\n",
    "display(product_sales['customer_id'].head())\n",
    "\n",
    "display(product_sales['customer_id'].tail())"
   ]
  },
  {
   "cell_type": "markdown",
   "id": "72b1a37b",
   "metadata": {},
   "source": [
    "Since `customer_id` is a unique identifier for the customer and there are no missing values, no cleaning is needed."
   ]
  },
  {
   "cell_type": "code",
   "execution_count": 8,
   "id": "4ecf0ed4",
   "metadata": {
    "executionTime": 10,
    "lastSuccessfullyExecutedCode": "#examing the nb_sold attribute\nproduct_sales['nb_sold'].value_counts()",
    "scrolled": true
   },
   "outputs": [
    {
     "data": {
      "text/plain": [
       "10    3677\n",
       "9     3535\n",
       "11    2439\n",
       "8     1941\n",
       "12    1088\n",
       "13     939\n",
       "7      698\n",
       "15     555\n",
       "14      97\n",
       "16      31\n",
       "Name: nb_sold, dtype: int64"
      ]
     },
     "execution_count": 8,
     "metadata": {},
     "output_type": "execute_result"
    }
   ],
   "source": [
    "#examining the nb_sold attribute\n",
    "product_sales['nb_sold'].value_counts()"
   ]
  },
  {
   "cell_type": "markdown",
   "id": "01c0043b",
   "metadata": {},
   "source": [
    "`nb_sold`: number of new products sold. There are 10 unique values. With a max of 16 new products sold for a customer. To maximize the number of new products sold can futher explore those values of `nb_sold`. However when looking at the highest amount of products sold - 10 there is a big difference between the amount of customers which bought 10 versus 16. 9 is a close second."
   ]
  },
  {
   "cell_type": "code",
   "execution_count": 9,
   "id": "545dd909",
   "metadata": {
    "executionTime": 0,
    "lastSuccessfullyExecutedCode": "#examing the years_as_customer attribute\nproduct_sales['years_as_customer'].value_counts()"
   },
   "outputs": [
    {
     "data": {
      "text/plain": [
       "1     2504\n",
       "2     1987\n",
       "3     1619\n",
       "0     1471\n",
       "4     1338\n",
       "5     1118\n",
       "6      918\n",
       "7      709\n",
       "8      608\n",
       "9      509\n",
       "10     405\n",
       "11     318\n",
       "12     284\n",
       "13     239\n",
       "14     167\n",
       "15     150\n",
       "16     123\n",
       "17      88\n",
       "18      82\n",
       "19      58\n",
       "20      54\n",
       "22      43\n",
       "21      37\n",
       "24      27\n",
       "26      22\n",
       "23      21\n",
       "25      19\n",
       "27      15\n",
       "30       9\n",
       "34       8\n",
       "33       8\n",
       "28       8\n",
       "31       6\n",
       "35       5\n",
       "29       5\n",
       "32       5\n",
       "36       4\n",
       "39       3\n",
       "37       2\n",
       "38       2\n",
       "47       1\n",
       "63       1\n",
       "Name: years_as_customer, dtype: int64"
      ]
     },
     "metadata": {},
     "output_type": "display_data"
    },
    {
     "data": {
      "text/plain": [
       "42"
      ]
     },
     "metadata": {},
     "output_type": "display_data"
    }
   ],
   "source": [
    "#examining the years_as_customer attribute\n",
    "display(product_sales['years_as_customer'].value_counts())\n",
    "display(len(product_sales['years_as_customer'].value_counts()))"
   ]
  },
  {
   "cell_type": "markdown",
   "id": "134f9377",
   "metadata": {},
   "source": [
    "`years_as_customer`: number of years customer has been buying from Pens and Printers, the company was founded in 1984. At the time of this analysis it is 2023, 1984 was 39 years ago. Therefore there are some values that do not fit within the correct range. More customers tend to be newer customers with the higher amount of customers being within the 0 to 4 years as customers with 1 being the highest at 2,504 customers.  \n"
   ]
  },
  {
   "cell_type": "code",
   "execution_count": 10,
   "id": "3670f8a1",
   "metadata": {},
   "outputs": [
    {
     "data": {
      "text/html": [
       "<div>\n",
       "<style scoped>\n",
       "    .dataframe tbody tr th:only-of-type {\n",
       "        vertical-align: middle;\n",
       "    }\n",
       "\n",
       "    .dataframe tbody tr th {\n",
       "        vertical-align: top;\n",
       "    }\n",
       "\n",
       "    .dataframe thead th {\n",
       "        text-align: right;\n",
       "    }\n",
       "</style>\n",
       "<table border=\"1\" class=\"dataframe\">\n",
       "  <thead>\n",
       "    <tr style=\"text-align: right;\">\n",
       "      <th></th>\n",
       "      <th>week</th>\n",
       "      <th>sales_method</th>\n",
       "      <th>customer_id</th>\n",
       "      <th>nb_sold</th>\n",
       "      <th>revenue</th>\n",
       "      <th>years_as_customer</th>\n",
       "      <th>nb_site_visits</th>\n",
       "      <th>state</th>\n",
       "    </tr>\n",
       "  </thead>\n",
       "  <tbody>\n",
       "    <tr>\n",
       "      <th>13741</th>\n",
       "      <td>2</td>\n",
       "      <td>Email</td>\n",
       "      <td>18919515-a618-430c-9a05-2c7d8fea96af</td>\n",
       "      <td>10</td>\n",
       "      <td>97.22</td>\n",
       "      <td>63</td>\n",
       "      <td>24</td>\n",
       "      <td>California</td>\n",
       "    </tr>\n",
       "    <tr>\n",
       "      <th>13800</th>\n",
       "      <td>4</td>\n",
       "      <td>Call</td>\n",
       "      <td>2ea97d34-571d-4e1b-95be-fea1c404649f</td>\n",
       "      <td>10</td>\n",
       "      <td>50.47</td>\n",
       "      <td>47</td>\n",
       "      <td>27</td>\n",
       "      <td>California</td>\n",
       "    </tr>\n",
       "  </tbody>\n",
       "</table>\n",
       "</div>"
      ],
      "text/plain": [
       "       week sales_method                           customer_id  nb_sold  \\\n",
       "13741     2        Email  18919515-a618-430c-9a05-2c7d8fea96af       10   \n",
       "13800     4         Call  2ea97d34-571d-4e1b-95be-fea1c404649f       10   \n",
       "\n",
       "       revenue  years_as_customer  nb_site_visits       state  \n",
       "13741    97.22                 63              24  California  \n",
       "13800    50.47                 47              27  California  "
      ]
     },
     "execution_count": 10,
     "metadata": {},
     "output_type": "execute_result"
    }
   ],
   "source": [
    "#instance where the years_as_customer value is greater than 39\n",
    "product_sales[product_sales['years_as_customer'] > 39]"
   ]
  },
  {
   "cell_type": "markdown",
   "id": "c5ce6cdb",
   "metadata": {},
   "source": [
    "There are only 2 instances that are greater than 39, will remove these since there is no right way of imputing these values unless I use the mode but again there are only 2. Therefore I will just remove these values."
   ]
  },
  {
   "cell_type": "code",
   "execution_count": 11,
   "id": "81e19845",
   "metadata": {
    "executionTime": 12,
    "lastSuccessfullyExecutedCode": "product_sales.drop(product_sales[product_sales['years_as_customer'] > 39].index, inplace=True)\n\n#sanity check\nproduct_sales[product_sales['years_as_customer'] > 39]"
   },
   "outputs": [
    {
     "data": {
      "text/html": [
       "<div>\n",
       "<style scoped>\n",
       "    .dataframe tbody tr th:only-of-type {\n",
       "        vertical-align: middle;\n",
       "    }\n",
       "\n",
       "    .dataframe tbody tr th {\n",
       "        vertical-align: top;\n",
       "    }\n",
       "\n",
       "    .dataframe thead th {\n",
       "        text-align: right;\n",
       "    }\n",
       "</style>\n",
       "<table border=\"1\" class=\"dataframe\">\n",
       "  <thead>\n",
       "    <tr style=\"text-align: right;\">\n",
       "      <th></th>\n",
       "      <th>week</th>\n",
       "      <th>sales_method</th>\n",
       "      <th>customer_id</th>\n",
       "      <th>nb_sold</th>\n",
       "      <th>revenue</th>\n",
       "      <th>years_as_customer</th>\n",
       "      <th>nb_site_visits</th>\n",
       "      <th>state</th>\n",
       "    </tr>\n",
       "  </thead>\n",
       "  <tbody>\n",
       "  </tbody>\n",
       "</table>\n",
       "</div>"
      ],
      "text/plain": [
       "Empty DataFrame\n",
       "Columns: [week, sales_method, customer_id, nb_sold, revenue, years_as_customer, nb_site_visits, state]\n",
       "Index: []"
      ]
     },
     "execution_count": 11,
     "metadata": {},
     "output_type": "execute_result"
    }
   ],
   "source": [
    "#dropping instances with year greater than 39\n",
    "product_sales.drop(product_sales[product_sales['years_as_customer'] > 39].index, inplace=True)\n",
    "\n",
    "#sanity check\n",
    "product_sales[product_sales['years_as_customer'] > 39]"
   ]
  },
  {
   "cell_type": "code",
   "execution_count": 12,
   "id": "65998dd5",
   "metadata": {},
   "outputs": [
    {
     "data": {
      "text/plain": [
       "25    1688\n",
       "26    1645\n",
       "24    1600\n",
       "23    1478\n",
       "27    1439\n",
       "22    1200\n",
       "28    1175\n",
       "21     908\n",
       "29     893\n",
       "30     654\n",
       "20     600\n",
       "19     426\n",
       "31     371\n",
       "32     250\n",
       "18     217\n",
       "33     114\n",
       "17     113\n",
       "16      80\n",
       "34      51\n",
       "35      33\n",
       "15      31\n",
       "36      14\n",
       "14       7\n",
       "37       5\n",
       "13       4\n",
       "41       1\n",
       "12       1\n",
       "Name: nb_site_visits, dtype: int64"
      ]
     },
     "metadata": {},
     "output_type": "display_data"
    },
    {
     "data": {
      "text/plain": [
       "27"
      ]
     },
     "metadata": {},
     "output_type": "display_data"
    }
   ],
   "source": [
    "#examining the nb_site_visits attribute\n",
    "site_visits = product_sales['nb_site_visits'].value_counts()\n",
    "\n",
    "display(site_visits)\n",
    "display(len(site_visits))"
   ]
  },
  {
   "cell_type": "markdown",
   "id": "0c54c85b",
   "metadata": {},
   "source": [
    "`nb_site_visits`: number of times the customer has visited the website in the last 6 months. The most frequent site visits is 25 with 1,688 customers, 26 comes in a close second with 1,645. What is interesting about this is that most customers tend to visit the site in between 20 to 30 times. Furthering exploring the relationship between site visits, purchases made, and revenue would be worth it."
   ]
  },
  {
   "cell_type": "code",
   "execution_count": 13,
   "id": "f1b98207",
   "metadata": {
    "executionTime": 5,
    "lastSuccessfullyExecutedCode": "#examing the state attribute\ndisplay(product_sales['state'].value_counts())\n\ndisplay(len(product_sales['state'].unique()))"
   },
   "outputs": [
    {
     "data": {
      "text/plain": [
       "California        1870\n",
       "Texas             1187\n",
       "New York           965\n",
       "Florida            904\n",
       "Illinois           617\n",
       "Pennsylvania       598\n",
       "Ohio               566\n",
       "Michigan           498\n",
       "Georgia            489\n",
       "North Carolina     459\n",
       "New Jersey         434\n",
       "Virginia           372\n",
       "Indiana            354\n",
       "Tennessee          340\n",
       "Washington         335\n",
       "Arizona            321\n",
       "Missouri           311\n",
       "Massachusetts      294\n",
       "Maryland           263\n",
       "Wisconsin          253\n",
       "Minnesota          245\n",
       "Colorado           230\n",
       "Louisiana          230\n",
       "Oregon             229\n",
       "South Carolina     224\n",
       "Alabama            214\n",
       "Kentucky           213\n",
       "Oklahoma           196\n",
       "Connecticut        179\n",
       "Iowa               165\n",
       "Kansas             142\n",
       "Mississippi        139\n",
       "Arkansas           132\n",
       "Utah               124\n",
       "Nevada             102\n",
       "Nebraska            91\n",
       "West Virginia       85\n",
       "New Mexico          84\n",
       "Hawaii              72\n",
       "Maine               63\n",
       "Idaho               62\n",
       "New Hampshire       53\n",
       "Montana             45\n",
       "Rhode Island        43\n",
       "South Dakota        41\n",
       "Alaska              40\n",
       "Delaware            34\n",
       "Wyoming             33\n",
       "North Dakota        30\n",
       "Vermont             28\n",
       "Name: state, dtype: int64"
      ]
     },
     "metadata": {},
     "output_type": "display_data"
    },
    {
     "data": {
      "text/plain": [
       "50"
      ]
     },
     "metadata": {},
     "output_type": "display_data"
    }
   ],
   "source": [
    "#examining the state attribute\n",
    "display(product_sales['state'].value_counts())\n",
    "\n",
    "display(len(product_sales['state'].unique()))"
   ]
  },
  {
   "cell_type": "markdown",
   "id": "255340e3",
   "metadata": {},
   "source": [
    "`state`: location of the customer i.e. where order are shipped to. The states that are the most populated have the most customers - California and Texas are the top 2 with 1,870 and 1,187 respectively. Here is a [link](https://worldpopulationreview.com/states) listing the states by population. The list and the ranking do not follow exactly due to the population ever-changing but it is similar. "
   ]
  },
  {
   "cell_type": "code",
   "execution_count": 14,
   "id": "932665a5",
   "metadata": {},
   "outputs": [
    {
     "data": {
      "text/plain": [
       "51.86     11\n",
       "53.25     10\n",
       "52.51     10\n",
       "51.99      9\n",
       "50.90      9\n",
       "          ..\n",
       "44.80      1\n",
       "101.67     1\n",
       "128.21     1\n",
       "227.44     1\n",
       "176.04     1\n",
       "Name: revenue, Length: 6743, dtype: int64"
      ]
     },
     "execution_count": 14,
     "metadata": {},
     "output_type": "execute_result"
    }
   ],
   "source": [
    "#examining the revenue attribute\n",
    "product_sales['revenue'].value_counts()"
   ]
  },
  {
   "cell_type": "markdown",
   "id": "da61a5c4",
   "metadata": {},
   "source": [
    "`revenue`: revenue from the sales, rounded to 2 decimal places. This is a float data type; therefore it would have a good amount of unique values - 6,743. This was also the only attribute to have missing values will look at the description of the dataset to choose which value would be the best for imputation. "
   ]
  },
  {
   "cell_type": "code",
   "execution_count": 15,
   "id": "6142f164",
   "metadata": {},
   "outputs": [
    {
     "data": {
      "text/html": [
       "<div>\n",
       "<style scoped>\n",
       "    .dataframe tbody tr th:only-of-type {\n",
       "        vertical-align: middle;\n",
       "    }\n",
       "\n",
       "    .dataframe tbody tr th {\n",
       "        vertical-align: top;\n",
       "    }\n",
       "\n",
       "    .dataframe thead th {\n",
       "        text-align: right;\n",
       "    }\n",
       "</style>\n",
       "<table border=\"1\" class=\"dataframe\">\n",
       "  <thead>\n",
       "    <tr style=\"text-align: right;\">\n",
       "      <th></th>\n",
       "      <th>week</th>\n",
       "      <th>nb_sold</th>\n",
       "      <th>revenue</th>\n",
       "      <th>years_as_customer</th>\n",
       "      <th>nb_site_visits</th>\n",
       "    </tr>\n",
       "  </thead>\n",
       "  <tbody>\n",
       "    <tr>\n",
       "      <th>count</th>\n",
       "      <td>14998.00000</td>\n",
       "      <td>14998.000000</td>\n",
       "      <td>13924.000000</td>\n",
       "      <td>14998.000000</td>\n",
       "      <td>14998.000000</td>\n",
       "    </tr>\n",
       "    <tr>\n",
       "      <th>mean</th>\n",
       "      <td>3.09828</td>\n",
       "      <td>10.084678</td>\n",
       "      <td>93.937828</td>\n",
       "      <td>4.959261</td>\n",
       "      <td>24.990799</td>\n",
       "    </tr>\n",
       "    <tr>\n",
       "      <th>std</th>\n",
       "      <td>1.65649</td>\n",
       "      <td>1.812334</td>\n",
       "      <td>47.437281</td>\n",
       "      <td>5.011237</td>\n",
       "      <td>3.501100</td>\n",
       "    </tr>\n",
       "    <tr>\n",
       "      <th>min</th>\n",
       "      <td>1.00000</td>\n",
       "      <td>7.000000</td>\n",
       "      <td>32.540000</td>\n",
       "      <td>0.000000</td>\n",
       "      <td>12.000000</td>\n",
       "    </tr>\n",
       "    <tr>\n",
       "      <th>25%</th>\n",
       "      <td>2.00000</td>\n",
       "      <td>9.000000</td>\n",
       "      <td>52.470000</td>\n",
       "      <td>1.000000</td>\n",
       "      <td>23.000000</td>\n",
       "    </tr>\n",
       "    <tr>\n",
       "      <th>50%</th>\n",
       "      <td>3.00000</td>\n",
       "      <td>10.000000</td>\n",
       "      <td>89.500000</td>\n",
       "      <td>3.000000</td>\n",
       "      <td>25.000000</td>\n",
       "    </tr>\n",
       "    <tr>\n",
       "      <th>75%</th>\n",
       "      <td>5.00000</td>\n",
       "      <td>11.000000</td>\n",
       "      <td>107.330000</td>\n",
       "      <td>7.000000</td>\n",
       "      <td>27.000000</td>\n",
       "    </tr>\n",
       "    <tr>\n",
       "      <th>max</th>\n",
       "      <td>6.00000</td>\n",
       "      <td>16.000000</td>\n",
       "      <td>238.320000</td>\n",
       "      <td>39.000000</td>\n",
       "      <td>41.000000</td>\n",
       "    </tr>\n",
       "  </tbody>\n",
       "</table>\n",
       "</div>"
      ],
      "text/plain": [
       "              week       nb_sold       revenue  years_as_customer  \\\n",
       "count  14998.00000  14998.000000  13924.000000       14998.000000   \n",
       "mean       3.09828     10.084678     93.937828           4.959261   \n",
       "std        1.65649      1.812334     47.437281           5.011237   \n",
       "min        1.00000      7.000000     32.540000           0.000000   \n",
       "25%        2.00000      9.000000     52.470000           1.000000   \n",
       "50%        3.00000     10.000000     89.500000           3.000000   \n",
       "75%        5.00000     11.000000    107.330000           7.000000   \n",
       "max        6.00000     16.000000    238.320000          39.000000   \n",
       "\n",
       "       nb_site_visits  \n",
       "count    14998.000000  \n",
       "mean        24.990799  \n",
       "std          3.501100  \n",
       "min         12.000000  \n",
       "25%         23.000000  \n",
       "50%         25.000000  \n",
       "75%         27.000000  \n",
       "max         41.000000  "
      ]
     },
     "execution_count": 15,
     "metadata": {},
     "output_type": "execute_result"
    }
   ],
   "source": [
    "#description of the dataframe\n",
    "product_sales.describe()"
   ]
  },
  {
   "cell_type": "markdown",
   "id": "206949ea",
   "metadata": {},
   "source": [
    "`revenue`: has a mean of 93.938 and a median of 89.5. Although the difference between the two is not very drastic, I will use the median to impute due the mean being susceptible to outliers.\n",
    "\n",
    "Looking at the `week` and `years_as_customer` attribute it does not really tells us much because although it is numeric it is still a categorical feature. The `nb_sold` has an average of 10 flooring which is the same as the most frequent amount. The `nb_site_visits` has an average of 25 ceiling which is the same as the most frequent amount"
   ]
  },
  {
   "cell_type": "code",
   "execution_count": 16,
   "id": "3ba25f79",
   "metadata": {},
   "outputs": [
    {
     "data": {
      "text/plain": [
       "week                 0\n",
       "sales_method         0\n",
       "customer_id          0\n",
       "nb_sold              0\n",
       "revenue              0\n",
       "years_as_customer    0\n",
       "nb_site_visits       0\n",
       "state                0\n",
       "dtype: int64"
      ]
     },
     "execution_count": 16,
     "metadata": {},
     "output_type": "execute_result"
    }
   ],
   "source": [
    "#filling in the null values with the median of revenue\n",
    "product_sales['revenue'] = product_sales['revenue'].fillna(product_sales['revenue'].median())\n",
    "\n",
    "#sanity check\n",
    "product_sales.isna().sum()"
   ]
  },
  {
   "cell_type": "markdown",
   "id": "5ca6bf82",
   "metadata": {},
   "source": [
    "### Exploration of the Relationship Between Attributes"
   ]
  },
  {
   "cell_type": "code",
   "execution_count": 17,
   "id": "77e02a44",
   "metadata": {
    "scrolled": false
   },
   "outputs": [
    {
     "data": {
      "text/html": [
       "<div>\n",
       "<style scoped>\n",
       "    .dataframe tbody tr th:only-of-type {\n",
       "        vertical-align: middle;\n",
       "    }\n",
       "\n",
       "    .dataframe tbody tr th {\n",
       "        vertical-align: top;\n",
       "    }\n",
       "\n",
       "    .dataframe thead th {\n",
       "        text-align: right;\n",
       "    }\n",
       "</style>\n",
       "<table border=\"1\" class=\"dataframe\">\n",
       "  <thead>\n",
       "    <tr style=\"text-align: right;\">\n",
       "      <th></th>\n",
       "      <th>week</th>\n",
       "      <th>sales_method</th>\n",
       "      <th>customer_id</th>\n",
       "      <th>nb_sold</th>\n",
       "      <th>revenue</th>\n",
       "      <th>years_as_customer</th>\n",
       "      <th>nb_site_visits</th>\n",
       "      <th>state</th>\n",
       "    </tr>\n",
       "  </thead>\n",
       "  <tbody>\n",
       "    <tr>\n",
       "      <th>213</th>\n",
       "      <td>6</td>\n",
       "      <td>Email + Call</td>\n",
       "      <td>00dc7276-7b92-4642-9d24-69c841286964</td>\n",
       "      <td>16</td>\n",
       "      <td>232.86</td>\n",
       "      <td>1</td>\n",
       "      <td>33</td>\n",
       "      <td>Michigan</td>\n",
       "    </tr>\n",
       "    <tr>\n",
       "      <th>575</th>\n",
       "      <td>6</td>\n",
       "      <td>Email + Call</td>\n",
       "      <td>a0b8123a-0f92-4152-8ea0-cc732e452f49</td>\n",
       "      <td>16</td>\n",
       "      <td>234.03</td>\n",
       "      <td>6</td>\n",
       "      <td>29</td>\n",
       "      <td>California</td>\n",
       "    </tr>\n",
       "    <tr>\n",
       "      <th>735</th>\n",
       "      <td>6</td>\n",
       "      <td>Email + Call</td>\n",
       "      <td>0002aed1-1a1f-4b20-845f-7a4b8cc9977a</td>\n",
       "      <td>16</td>\n",
       "      <td>237.19</td>\n",
       "      <td>2</td>\n",
       "      <td>29</td>\n",
       "      <td>California</td>\n",
       "    </tr>\n",
       "    <tr>\n",
       "      <th>1288</th>\n",
       "      <td>6</td>\n",
       "      <td>Email + Call</td>\n",
       "      <td>a42b682d-573a-4301-82b1-42caa5dccc46</td>\n",
       "      <td>16</td>\n",
       "      <td>232.73</td>\n",
       "      <td>4</td>\n",
       "      <td>30</td>\n",
       "      <td>Georgia</td>\n",
       "    </tr>\n",
       "    <tr>\n",
       "      <th>1426</th>\n",
       "      <td>6</td>\n",
       "      <td>Email + Call</td>\n",
       "      <td>fce8075a-23bc-45ff-b537-793a2ddd99c0</td>\n",
       "      <td>16</td>\n",
       "      <td>234.08</td>\n",
       "      <td>0</td>\n",
       "      <td>30</td>\n",
       "      <td>New York</td>\n",
       "    </tr>\n",
       "    <tr>\n",
       "      <th>1684</th>\n",
       "      <td>6</td>\n",
       "      <td>Email + Call</td>\n",
       "      <td>c1c73fb9-cf35-47e2-94d0-eec90bcada4d</td>\n",
       "      <td>16</td>\n",
       "      <td>233.80</td>\n",
       "      <td>0</td>\n",
       "      <td>30</td>\n",
       "      <td>Florida</td>\n",
       "    </tr>\n",
       "    <tr>\n",
       "      <th>1743</th>\n",
       "      <td>6</td>\n",
       "      <td>Email + Call</td>\n",
       "      <td>7fc56abe-dbf1-418a-988c-08e33ebe30bd</td>\n",
       "      <td>16</td>\n",
       "      <td>233.39</td>\n",
       "      <td>1</td>\n",
       "      <td>32</td>\n",
       "      <td>Oregon</td>\n",
       "    </tr>\n",
       "    <tr>\n",
       "      <th>1760</th>\n",
       "      <td>6</td>\n",
       "      <td>Email + Call</td>\n",
       "      <td>4aba322a-0532-4925-b7ae-c51d9dc359ef</td>\n",
       "      <td>16</td>\n",
       "      <td>232.89</td>\n",
       "      <td>3</td>\n",
       "      <td>36</td>\n",
       "      <td>Florida</td>\n",
       "    </tr>\n",
       "    <tr>\n",
       "      <th>2487</th>\n",
       "      <td>6</td>\n",
       "      <td>Email + Call</td>\n",
       "      <td>5bc155b2-a053-472c-a8e1-9a6caf1f584b</td>\n",
       "      <td>16</td>\n",
       "      <td>232.97</td>\n",
       "      <td>0</td>\n",
       "      <td>29</td>\n",
       "      <td>California</td>\n",
       "    </tr>\n",
       "    <tr>\n",
       "      <th>2661</th>\n",
       "      <td>6</td>\n",
       "      <td>Email + Call</td>\n",
       "      <td>efd9156a-f466-4a5c-9e28-5960fb69b36c</td>\n",
       "      <td>16</td>\n",
       "      <td>233.32</td>\n",
       "      <td>13</td>\n",
       "      <td>28</td>\n",
       "      <td>Louisiana</td>\n",
       "    </tr>\n",
       "    <tr>\n",
       "      <th>3490</th>\n",
       "      <td>6</td>\n",
       "      <td>Email + Call</td>\n",
       "      <td>21513a8f-f7aa-4ff7-b212-b213117c5a07</td>\n",
       "      <td>16</td>\n",
       "      <td>238.32</td>\n",
       "      <td>0</td>\n",
       "      <td>36</td>\n",
       "      <td>North Carolina</td>\n",
       "    </tr>\n",
       "    <tr>\n",
       "      <th>4238</th>\n",
       "      <td>6</td>\n",
       "      <td>Email + Call</td>\n",
       "      <td>68c72896-b99a-44e8-89ac-061ef612f20e</td>\n",
       "      <td>16</td>\n",
       "      <td>235.59</td>\n",
       "      <td>6</td>\n",
       "      <td>32</td>\n",
       "      <td>North Carolina</td>\n",
       "    </tr>\n",
       "    <tr>\n",
       "      <th>4374</th>\n",
       "      <td>6</td>\n",
       "      <td>Email + Call</td>\n",
       "      <td>80644239-745b-41e7-883a-21350495db46</td>\n",
       "      <td>16</td>\n",
       "      <td>232.83</td>\n",
       "      <td>2</td>\n",
       "      <td>32</td>\n",
       "      <td>Texas</td>\n",
       "    </tr>\n",
       "    <tr>\n",
       "      <th>4638</th>\n",
       "      <td>6</td>\n",
       "      <td>Email + Call</td>\n",
       "      <td>0f350fa1-f6a9-488b-9fe1-256b66083882</td>\n",
       "      <td>16</td>\n",
       "      <td>232.52</td>\n",
       "      <td>5</td>\n",
       "      <td>26</td>\n",
       "      <td>Maryland</td>\n",
       "    </tr>\n",
       "    <tr>\n",
       "      <th>4719</th>\n",
       "      <td>6</td>\n",
       "      <td>Email + Call</td>\n",
       "      <td>a58667ad-d27c-480f-b000-1865ed1cb412</td>\n",
       "      <td>16</td>\n",
       "      <td>233.97</td>\n",
       "      <td>4</td>\n",
       "      <td>33</td>\n",
       "      <td>California</td>\n",
       "    </tr>\n",
       "    <tr>\n",
       "      <th>5591</th>\n",
       "      <td>6</td>\n",
       "      <td>Email + Call</td>\n",
       "      <td>aafa1bb4-aea8-45c7-9704-9d732d8bcb6f</td>\n",
       "      <td>16</td>\n",
       "      <td>232.79</td>\n",
       "      <td>2</td>\n",
       "      <td>32</td>\n",
       "      <td>New Jersey</td>\n",
       "    </tr>\n",
       "    <tr>\n",
       "      <th>6723</th>\n",
       "      <td>6</td>\n",
       "      <td>Email + Call</td>\n",
       "      <td>e4982d88-95c8-4316-bf5d-841229f5822e</td>\n",
       "      <td>16</td>\n",
       "      <td>233.05</td>\n",
       "      <td>2</td>\n",
       "      <td>30</td>\n",
       "      <td>Wisconsin</td>\n",
       "    </tr>\n",
       "    <tr>\n",
       "      <th>6739</th>\n",
       "      <td>6</td>\n",
       "      <td>Email + Call</td>\n",
       "      <td>86521b15-4742-4f01-8ba3-ea7d172fe494</td>\n",
       "      <td>16</td>\n",
       "      <td>235.58</td>\n",
       "      <td>1</td>\n",
       "      <td>28</td>\n",
       "      <td>Pennsylvania</td>\n",
       "    </tr>\n",
       "    <tr>\n",
       "      <th>6792</th>\n",
       "      <td>6</td>\n",
       "      <td>Email + Call</td>\n",
       "      <td>535ddeb0-ca5d-40f2-a0e0-733c864fe686</td>\n",
       "      <td>16</td>\n",
       "      <td>236.75</td>\n",
       "      <td>2</td>\n",
       "      <td>30</td>\n",
       "      <td>Florida</td>\n",
       "    </tr>\n",
       "    <tr>\n",
       "      <th>7336</th>\n",
       "      <td>6</td>\n",
       "      <td>Email + Call</td>\n",
       "      <td>53e4d803-2c9f-43b7-a970-a996b33d4619</td>\n",
       "      <td>16</td>\n",
       "      <td>234.44</td>\n",
       "      <td>1</td>\n",
       "      <td>30</td>\n",
       "      <td>New York</td>\n",
       "    </tr>\n",
       "    <tr>\n",
       "      <th>8423</th>\n",
       "      <td>6</td>\n",
       "      <td>Email + Call</td>\n",
       "      <td>0fd53854-68c9-49cb-a0d1-50f077860358</td>\n",
       "      <td>16</td>\n",
       "      <td>233.03</td>\n",
       "      <td>3</td>\n",
       "      <td>29</td>\n",
       "      <td>Connecticut</td>\n",
       "    </tr>\n",
       "    <tr>\n",
       "      <th>8943</th>\n",
       "      <td>6</td>\n",
       "      <td>Email + Call</td>\n",
       "      <td>96a6fd63-5ddd-4877-b2d5-038ac4fea19f</td>\n",
       "      <td>16</td>\n",
       "      <td>233.09</td>\n",
       "      <td>0</td>\n",
       "      <td>27</td>\n",
       "      <td>Utah</td>\n",
       "    </tr>\n",
       "    <tr>\n",
       "      <th>9445</th>\n",
       "      <td>6</td>\n",
       "      <td>Email + Call</td>\n",
       "      <td>1d23bed9-8e72-40f1-946e-760e8b19be71</td>\n",
       "      <td>16</td>\n",
       "      <td>233.37</td>\n",
       "      <td>1</td>\n",
       "      <td>30</td>\n",
       "      <td>West Virginia</td>\n",
       "    </tr>\n",
       "    <tr>\n",
       "      <th>11258</th>\n",
       "      <td>6</td>\n",
       "      <td>Email + Call</td>\n",
       "      <td>77dce5a0-cf65-488d-8d3a-500a1f861c27</td>\n",
       "      <td>16</td>\n",
       "      <td>232.55</td>\n",
       "      <td>3</td>\n",
       "      <td>34</td>\n",
       "      <td>Hawaii</td>\n",
       "    </tr>\n",
       "    <tr>\n",
       "      <th>12006</th>\n",
       "      <td>6</td>\n",
       "      <td>Email + Call</td>\n",
       "      <td>5a34f271-29fd-4777-a9d6-ffd5076f4f55</td>\n",
       "      <td>16</td>\n",
       "      <td>238.23</td>\n",
       "      <td>3</td>\n",
       "      <td>33</td>\n",
       "      <td>New York</td>\n",
       "    </tr>\n",
       "    <tr>\n",
       "      <th>12659</th>\n",
       "      <td>6</td>\n",
       "      <td>Email + Call</td>\n",
       "      <td>35b1f346-b0ed-4ab8-976e-504942488c9c</td>\n",
       "      <td>16</td>\n",
       "      <td>234.98</td>\n",
       "      <td>3</td>\n",
       "      <td>29</td>\n",
       "      <td>Hawaii</td>\n",
       "    </tr>\n",
       "    <tr>\n",
       "      <th>13388</th>\n",
       "      <td>6</td>\n",
       "      <td>Email + Call</td>\n",
       "      <td>1723838d-ea53-4477-93d2-61fecb7d750f</td>\n",
       "      <td>16</td>\n",
       "      <td>235.40</td>\n",
       "      <td>2</td>\n",
       "      <td>29</td>\n",
       "      <td>South Dakota</td>\n",
       "    </tr>\n",
       "    <tr>\n",
       "      <th>13434</th>\n",
       "      <td>6</td>\n",
       "      <td>Email + Call</td>\n",
       "      <td>6d4f9376-80e3-4da3-96b3-708564427fe9</td>\n",
       "      <td>16</td>\n",
       "      <td>232.68</td>\n",
       "      <td>5</td>\n",
       "      <td>32</td>\n",
       "      <td>New York</td>\n",
       "    </tr>\n",
       "    <tr>\n",
       "      <th>13645</th>\n",
       "      <td>6</td>\n",
       "      <td>Email + Call</td>\n",
       "      <td>47fa33be-e4c7-491c-a42c-2bc653c28433</td>\n",
       "      <td>16</td>\n",
       "      <td>233.77</td>\n",
       "      <td>5</td>\n",
       "      <td>35</td>\n",
       "      <td>Ohio</td>\n",
       "    </tr>\n",
       "    <tr>\n",
       "      <th>13756</th>\n",
       "      <td>6</td>\n",
       "      <td>Email + Call</td>\n",
       "      <td>6714db9b-2567-4062-9ea7-83006e303b2a</td>\n",
       "      <td>16</td>\n",
       "      <td>234.10</td>\n",
       "      <td>1</td>\n",
       "      <td>28</td>\n",
       "      <td>New Jersey</td>\n",
       "    </tr>\n",
       "    <tr>\n",
       "      <th>14054</th>\n",
       "      <td>6</td>\n",
       "      <td>Email + Call</td>\n",
       "      <td>26b35552-0d19-4e8b-bdf8-c9bd3b9dba68</td>\n",
       "      <td>16</td>\n",
       "      <td>89.50</td>\n",
       "      <td>3</td>\n",
       "      <td>29</td>\n",
       "      <td>Michigan</td>\n",
       "    </tr>\n",
       "  </tbody>\n",
       "</table>\n",
       "</div>"
      ],
      "text/plain": [
       "       week  sales_method                           customer_id  nb_sold  \\\n",
       "213       6  Email + Call  00dc7276-7b92-4642-9d24-69c841286964       16   \n",
       "575       6  Email + Call  a0b8123a-0f92-4152-8ea0-cc732e452f49       16   \n",
       "735       6  Email + Call  0002aed1-1a1f-4b20-845f-7a4b8cc9977a       16   \n",
       "1288      6  Email + Call  a42b682d-573a-4301-82b1-42caa5dccc46       16   \n",
       "1426      6  Email + Call  fce8075a-23bc-45ff-b537-793a2ddd99c0       16   \n",
       "1684      6  Email + Call  c1c73fb9-cf35-47e2-94d0-eec90bcada4d       16   \n",
       "1743      6  Email + Call  7fc56abe-dbf1-418a-988c-08e33ebe30bd       16   \n",
       "1760      6  Email + Call  4aba322a-0532-4925-b7ae-c51d9dc359ef       16   \n",
       "2487      6  Email + Call  5bc155b2-a053-472c-a8e1-9a6caf1f584b       16   \n",
       "2661      6  Email + Call  efd9156a-f466-4a5c-9e28-5960fb69b36c       16   \n",
       "3490      6  Email + Call  21513a8f-f7aa-4ff7-b212-b213117c5a07       16   \n",
       "4238      6  Email + Call  68c72896-b99a-44e8-89ac-061ef612f20e       16   \n",
       "4374      6  Email + Call  80644239-745b-41e7-883a-21350495db46       16   \n",
       "4638      6  Email + Call  0f350fa1-f6a9-488b-9fe1-256b66083882       16   \n",
       "4719      6  Email + Call  a58667ad-d27c-480f-b000-1865ed1cb412       16   \n",
       "5591      6  Email + Call  aafa1bb4-aea8-45c7-9704-9d732d8bcb6f       16   \n",
       "6723      6  Email + Call  e4982d88-95c8-4316-bf5d-841229f5822e       16   \n",
       "6739      6  Email + Call  86521b15-4742-4f01-8ba3-ea7d172fe494       16   \n",
       "6792      6  Email + Call  535ddeb0-ca5d-40f2-a0e0-733c864fe686       16   \n",
       "7336      6  Email + Call  53e4d803-2c9f-43b7-a970-a996b33d4619       16   \n",
       "8423      6  Email + Call  0fd53854-68c9-49cb-a0d1-50f077860358       16   \n",
       "8943      6  Email + Call  96a6fd63-5ddd-4877-b2d5-038ac4fea19f       16   \n",
       "9445      6  Email + Call  1d23bed9-8e72-40f1-946e-760e8b19be71       16   \n",
       "11258     6  Email + Call  77dce5a0-cf65-488d-8d3a-500a1f861c27       16   \n",
       "12006     6  Email + Call  5a34f271-29fd-4777-a9d6-ffd5076f4f55       16   \n",
       "12659     6  Email + Call  35b1f346-b0ed-4ab8-976e-504942488c9c       16   \n",
       "13388     6  Email + Call  1723838d-ea53-4477-93d2-61fecb7d750f       16   \n",
       "13434     6  Email + Call  6d4f9376-80e3-4da3-96b3-708564427fe9       16   \n",
       "13645     6  Email + Call  47fa33be-e4c7-491c-a42c-2bc653c28433       16   \n",
       "13756     6  Email + Call  6714db9b-2567-4062-9ea7-83006e303b2a       16   \n",
       "14054     6  Email + Call  26b35552-0d19-4e8b-bdf8-c9bd3b9dba68       16   \n",
       "\n",
       "       revenue  years_as_customer  nb_site_visits           state  \n",
       "213     232.86                  1              33        Michigan  \n",
       "575     234.03                  6              29      California  \n",
       "735     237.19                  2              29      California  \n",
       "1288    232.73                  4              30         Georgia  \n",
       "1426    234.08                  0              30        New York  \n",
       "1684    233.80                  0              30         Florida  \n",
       "1743    233.39                  1              32          Oregon  \n",
       "1760    232.89                  3              36         Florida  \n",
       "2487    232.97                  0              29      California  \n",
       "2661    233.32                 13              28       Louisiana  \n",
       "3490    238.32                  0              36  North Carolina  \n",
       "4238    235.59                  6              32  North Carolina  \n",
       "4374    232.83                  2              32           Texas  \n",
       "4638    232.52                  5              26        Maryland  \n",
       "4719    233.97                  4              33      California  \n",
       "5591    232.79                  2              32      New Jersey  \n",
       "6723    233.05                  2              30       Wisconsin  \n",
       "6739    235.58                  1              28    Pennsylvania  \n",
       "6792    236.75                  2              30         Florida  \n",
       "7336    234.44                  1              30        New York  \n",
       "8423    233.03                  3              29     Connecticut  \n",
       "8943    233.09                  0              27            Utah  \n",
       "9445    233.37                  1              30   West Virginia  \n",
       "11258   232.55                  3              34          Hawaii  \n",
       "12006   238.23                  3              33        New York  \n",
       "12659   234.98                  3              29          Hawaii  \n",
       "13388   235.40                  2              29    South Dakota  \n",
       "13434   232.68                  5              32        New York  \n",
       "13645   233.77                  5              35            Ohio  \n",
       "13756   234.10                  1              28      New Jersey  \n",
       "14054    89.50                  3              29        Michigan  "
      ]
     },
     "execution_count": 17,
     "metadata": {},
     "output_type": "execute_result"
    }
   ],
   "source": [
    "#looking at the customers with the max nb_sold \n",
    "max_nb_sold = product_sales[product_sales['nb_sold'] == 16]\n",
    "max_nb_sold"
   ]
  },
  {
   "cell_type": "code",
   "execution_count": 18,
   "id": "8aa7db9b",
   "metadata": {},
   "outputs": [
    {
     "name": "stdout",
     "output_type": "stream",
     "text": [
      "Revenue\n"
     ]
    },
    {
     "data": {
      "text/plain": [
       "count     31.000000\n",
       "mean     229.477419\n",
       "std       26.029921\n",
       "min       89.500000\n",
       "25%      232.875000\n",
       "50%      233.390000\n",
       "75%      234.710000\n",
       "max      238.320000\n",
       "Name: revenue, dtype: float64"
      ]
     },
     "metadata": {},
     "output_type": "display_data"
    },
    {
     "name": "stdout",
     "output_type": "stream",
     "text": [
      "Mode of years as customer: \n",
      "0    1\n",
      "1    2\n",
      "2    3\n",
      "dtype: int64\n",
      "\n",
      "\n",
      "Min of site visits: 26 \n",
      "Mode of site visits: \n",
      "0    29\n",
      "1    30\n",
      "dtype: int64\n"
     ]
    }
   ],
   "source": [
    "#describe on revenue\n",
    "print(\"Revenue\")\n",
    "display(max_nb_sold['revenue'].describe())\n",
    "\n",
    "#mode on years_as_customer\n",
    "print(f\"Mode of years as customer: \\n{max_nb_sold['years_as_customer'].mode()}\")\n",
    "print('\\n')\n",
    "#min and mode of nb_site_visits\n",
    "print(f\"Min of site visits: {min(max_nb_sold['nb_site_visits'])} \\nMode of site visits: \\n{max_nb_sold['nb_site_visits'].mode()}\")"
   ]
  },
  {
   "cell_type": "markdown",
   "id": "aa51f4ba",
   "metadata": {},
   "source": [
    "From the value counts the max of `nb_sold` is 16. Filtering the dataset for only those values tells us that to get higher product sales will want to use the sales method Email + Call and that the week in which the sales happen is in the week 6 the latest possible in this dataset. The `revenue` average and median are a lot higher than the in the dataset as whole with 229.47 and 233.39 respectively, which make sense since this the max of new products sold. \n",
    "\n",
    "The most frequent values that show up in this dataset is 1, 2, and 3 which is similar to the dataset as whole. Most of the customers of Pen and Printers are newer customers. Interesting to see that the min value for the amount of site visits in the past 6 months was 26 and the most frequent are 29 and 30. The site visits of this dataset are higher than the rest of the original dataset."
   ]
  },
  {
   "cell_type": "code",
   "execution_count": 19,
   "id": "aaa3790b",
   "metadata": {},
   "outputs": [
    {
     "data": {
      "text/html": [
       "<div>\n",
       "<style scoped>\n",
       "    .dataframe tbody tr th:only-of-type {\n",
       "        vertical-align: middle;\n",
       "    }\n",
       "\n",
       "    .dataframe tbody tr th {\n",
       "        vertical-align: top;\n",
       "    }\n",
       "\n",
       "    .dataframe thead th {\n",
       "        text-align: right;\n",
       "    }\n",
       "</style>\n",
       "<table border=\"1\" class=\"dataframe\">\n",
       "  <thead>\n",
       "    <tr style=\"text-align: right;\">\n",
       "      <th></th>\n",
       "      <th>week</th>\n",
       "      <th>sales_method</th>\n",
       "      <th>customer_id</th>\n",
       "      <th>nb_sold</th>\n",
       "      <th>revenue</th>\n",
       "      <th>years_as_customer</th>\n",
       "      <th>nb_site_visits</th>\n",
       "      <th>state</th>\n",
       "    </tr>\n",
       "  </thead>\n",
       "  <tbody>\n",
       "    <tr>\n",
       "      <th>0</th>\n",
       "      <td>2</td>\n",
       "      <td>Email</td>\n",
       "      <td>2e72d641-95ac-497b-bbf8-4861764a7097</td>\n",
       "      <td>10</td>\n",
       "      <td>89.50</td>\n",
       "      <td>0</td>\n",
       "      <td>24</td>\n",
       "      <td>Arizona</td>\n",
       "    </tr>\n",
       "    <tr>\n",
       "      <th>1</th>\n",
       "      <td>6</td>\n",
       "      <td>Email + Call</td>\n",
       "      <td>3998a98d-70f5-44f7-942e-789bb8ad2fe7</td>\n",
       "      <td>15</td>\n",
       "      <td>225.47</td>\n",
       "      <td>1</td>\n",
       "      <td>28</td>\n",
       "      <td>Kansas</td>\n",
       "    </tr>\n",
       "    <tr>\n",
       "      <th>2</th>\n",
       "      <td>5</td>\n",
       "      <td>Call</td>\n",
       "      <td>d1de9884-8059-4065-b10f-86eef57e4a44</td>\n",
       "      <td>11</td>\n",
       "      <td>52.55</td>\n",
       "      <td>6</td>\n",
       "      <td>26</td>\n",
       "      <td>Wisconsin</td>\n",
       "    </tr>\n",
       "    <tr>\n",
       "      <th>3</th>\n",
       "      <td>4</td>\n",
       "      <td>Email</td>\n",
       "      <td>78aa75a4-ffeb-4817-b1d0-2f030783c5d7</td>\n",
       "      <td>11</td>\n",
       "      <td>89.50</td>\n",
       "      <td>3</td>\n",
       "      <td>25</td>\n",
       "      <td>Indiana</td>\n",
       "    </tr>\n",
       "    <tr>\n",
       "      <th>4</th>\n",
       "      <td>3</td>\n",
       "      <td>Email</td>\n",
       "      <td>10e6d446-10a5-42e5-8210-1b5438f70922</td>\n",
       "      <td>9</td>\n",
       "      <td>90.49</td>\n",
       "      <td>0</td>\n",
       "      <td>28</td>\n",
       "      <td>Illinois</td>\n",
       "    </tr>\n",
       "  </tbody>\n",
       "</table>\n",
       "</div>"
      ],
      "text/plain": [
       "   week  sales_method                           customer_id  nb_sold  revenue  \\\n",
       "0     2         Email  2e72d641-95ac-497b-bbf8-4861764a7097       10    89.50   \n",
       "1     6  Email + Call  3998a98d-70f5-44f7-942e-789bb8ad2fe7       15   225.47   \n",
       "2     5          Call  d1de9884-8059-4065-b10f-86eef57e4a44       11    52.55   \n",
       "3     4         Email  78aa75a4-ffeb-4817-b1d0-2f030783c5d7       11    89.50   \n",
       "4     3         Email  10e6d446-10a5-42e5-8210-1b5438f70922        9    90.49   \n",
       "\n",
       "   years_as_customer  nb_site_visits      state  \n",
       "0                  0              24    Arizona  \n",
       "1                  1              28     Kansas  \n",
       "2                  6              26  Wisconsin  \n",
       "3                  3              25    Indiana  \n",
       "4                  0              28   Illinois  "
      ]
     },
     "metadata": {},
     "output_type": "display_data"
    },
    {
     "data": {
      "text/plain": [
       "(12680, 8)"
      ]
     },
     "metadata": {},
     "output_type": "display_data"
    }
   ],
   "source": [
    "#looking at relationship with top 10 nb_site_visits  \n",
    "site_visits10 = product_sales[(product_sales['nb_site_visits'] >= 21) & (product_sales['nb_site_visits'] <= 30)]\n",
    "display(site_visits10.head())\n",
    "display(site_visits10.shape)"
   ]
  },
  {
   "cell_type": "code",
   "execution_count": 20,
   "id": "42d97cce",
   "metadata": {},
   "outputs": [
    {
     "name": "stdout",
     "output_type": "stream",
     "text": [
      "Revenue\n"
     ]
    },
    {
     "data": {
      "text/plain": [
       "count    12680.000000\n",
       "mean        94.154233\n",
       "std         44.528867\n",
       "min         32.590000\n",
       "25%         53.427500\n",
       "50%         89.500000\n",
       "75%        106.240000\n",
       "max        237.190000\n",
       "Name: revenue, dtype: float64"
      ]
     },
     "metadata": {},
     "output_type": "display_data"
    },
    {
     "name": "stdout",
     "output_type": "stream",
     "text": [
      "Frequency of week:\n",
      "1    0.231703\n",
      "4    0.182177\n",
      "5    0.178785\n",
      "2    0.173265\n",
      "3    0.160252\n",
      "6    0.073817\n",
      "Name: week, dtype: float64\n",
      "\n",
      "\n",
      "Frequency of new products sold:\n",
      "10    0.259464\n",
      "9     0.242271\n",
      "11    0.171057\n",
      "8     0.118218\n",
      "12    0.076183\n",
      "13    0.060962\n",
      "7     0.032808\n",
      "15    0.031546\n",
      "14    0.005994\n",
      "16    0.001498\n",
      "Name: nb_sold, dtype: float64\n",
      "\n",
      "\n",
      "Frequency of years as customer:\n",
      "1    2151\n",
      "2    1656\n",
      "3    1388\n",
      "0    1272\n",
      "4    1127\n",
      "5     940\n",
      "6     769\n",
      "7     575\n",
      "8     514\n",
      "9     449\n",
      "Name: years_as_customer, dtype: int64\n",
      "\n",
      "\n"
     ]
    }
   ],
   "source": [
    "#describe on revenue\n",
    "print(\"Revenue\")\n",
    "display(site_visits10['revenue'].describe())\n",
    "\n",
    "#value counts of week\n",
    "print(f\"Frequency of week:\\n{site_visits10['week'].value_counts(normalize=True)}\")\n",
    "print(\"\\n\")\n",
    "\n",
    "#value counts of nb_sold\n",
    "print(f\"Frequency of new products sold:\\n{site_visits10['nb_sold'].value_counts(normalize=True)}\")\n",
    "print(\"\\n\")\n",
    "\n",
    "\n",
    "#value counts of years_as_customer\n",
    "print(f\"Frequency of years as customer:\\n{site_visits10['years_as_customer'].value_counts().head(10)}\")"
   ]
  },
  {
   "cell_type": "markdown",
   "id": "7c6cb2f7",
   "metadata": {},
   "source": [
    "The `revenue` mean and median are very similar to the original dataset with values 94.154 and 89.5 respectively. This makes sense though because this dataset was created by filtering the the top 10 `nb_site_visits` which happens to be in the range of 21 to 30. These values make up 12,680 instances. \n",
    "\n",
    "The `week` where the are the most sales is in week 1 right after the product is launched at 23% or 2,938 of the dataset, with week 4 at 18% or 2,310. Most of the week have sales that are within 2,000 to 3,000 sales except for the last week 6 at 900. \n",
    "\n",
    "The `nb_sold` has 10 as the most frequent value which is the same as the original dataset - product_sales. It accounts for 25.94% of the dataset or 3,290. 9 comes in a close second with 24.22% or 3,072. The least frequent value is once again 16 at 0.01% or 19. \n",
    "\n",
    "The `years_as_customer` is same as the original with 1, 2, and 3 being the most frequent with 1 at 2,151."
   ]
  },
  {
   "cell_type": "code",
   "execution_count": 21,
   "id": "c3b6e284",
   "metadata": {},
   "outputs": [
    {
     "data": {
      "text/html": [
       "<div>\n",
       "<style scoped>\n",
       "    .dataframe tbody tr th:only-of-type {\n",
       "        vertical-align: middle;\n",
       "    }\n",
       "\n",
       "    .dataframe tbody tr th {\n",
       "        vertical-align: top;\n",
       "    }\n",
       "\n",
       "    .dataframe thead th {\n",
       "        text-align: right;\n",
       "    }\n",
       "</style>\n",
       "<table border=\"1\" class=\"dataframe\">\n",
       "  <thead>\n",
       "    <tr style=\"text-align: right;\">\n",
       "      <th></th>\n",
       "      <th>week</th>\n",
       "      <th>sales_method</th>\n",
       "      <th>customer_id</th>\n",
       "      <th>nb_sold</th>\n",
       "      <th>revenue</th>\n",
       "      <th>years_as_customer</th>\n",
       "      <th>nb_site_visits</th>\n",
       "      <th>state</th>\n",
       "    </tr>\n",
       "  </thead>\n",
       "  <tbody>\n",
       "    <tr>\n",
       "      <th>0</th>\n",
       "      <td>2</td>\n",
       "      <td>Email</td>\n",
       "      <td>2e72d641-95ac-497b-bbf8-4861764a7097</td>\n",
       "      <td>10</td>\n",
       "      <td>89.50</td>\n",
       "      <td>0</td>\n",
       "      <td>24</td>\n",
       "      <td>Arizona</td>\n",
       "    </tr>\n",
       "    <tr>\n",
       "      <th>1</th>\n",
       "      <td>6</td>\n",
       "      <td>Email + Call</td>\n",
       "      <td>3998a98d-70f5-44f7-942e-789bb8ad2fe7</td>\n",
       "      <td>15</td>\n",
       "      <td>225.47</td>\n",
       "      <td>1</td>\n",
       "      <td>28</td>\n",
       "      <td>Kansas</td>\n",
       "    </tr>\n",
       "    <tr>\n",
       "      <th>3</th>\n",
       "      <td>4</td>\n",
       "      <td>Email</td>\n",
       "      <td>78aa75a4-ffeb-4817-b1d0-2f030783c5d7</td>\n",
       "      <td>11</td>\n",
       "      <td>89.50</td>\n",
       "      <td>3</td>\n",
       "      <td>25</td>\n",
       "      <td>Indiana</td>\n",
       "    </tr>\n",
       "    <tr>\n",
       "      <th>4</th>\n",
       "      <td>3</td>\n",
       "      <td>Email</td>\n",
       "      <td>10e6d446-10a5-42e5-8210-1b5438f70922</td>\n",
       "      <td>9</td>\n",
       "      <td>90.49</td>\n",
       "      <td>0</td>\n",
       "      <td>28</td>\n",
       "      <td>Illinois</td>\n",
       "    </tr>\n",
       "    <tr>\n",
       "      <th>7</th>\n",
       "      <td>1</td>\n",
       "      <td>Email</td>\n",
       "      <td>047df079-071b-4380-9012-2bfe9bce45d5</td>\n",
       "      <td>10</td>\n",
       "      <td>99.94</td>\n",
       "      <td>1</td>\n",
       "      <td>22</td>\n",
       "      <td>Oklahoma</td>\n",
       "    </tr>\n",
       "  </tbody>\n",
       "</table>\n",
       "</div>"
      ],
      "text/plain": [
       "   week  sales_method                           customer_id  nb_sold  revenue  \\\n",
       "0     2         Email  2e72d641-95ac-497b-bbf8-4861764a7097       10    89.50   \n",
       "1     6  Email + Call  3998a98d-70f5-44f7-942e-789bb8ad2fe7       15   225.47   \n",
       "3     4         Email  78aa75a4-ffeb-4817-b1d0-2f030783c5d7       11    89.50   \n",
       "4     3         Email  10e6d446-10a5-42e5-8210-1b5438f70922        9    90.49   \n",
       "7     1         Email  047df079-071b-4380-9012-2bfe9bce45d5       10    99.94   \n",
       "\n",
       "   years_as_customer  nb_site_visits     state  \n",
       "0                  0              24   Arizona  \n",
       "1                  1              28    Kansas  \n",
       "3                  3              25   Indiana  \n",
       "4                  0              28  Illinois  \n",
       "7                  1              22  Oklahoma  "
      ]
     },
     "metadata": {},
     "output_type": "display_data"
    },
    {
     "data": {
      "text/plain": [
       "(8919, 8)"
      ]
     },
     "metadata": {},
     "output_type": "display_data"
    }
   ],
   "source": [
    "#looking at relationship with top 5 years_as_customer\n",
    "years5 = product_sales[(product_sales['years_as_customer'] >= 0) & (product_sales['years_as_customer'] <= 4)]\n",
    "\n",
    "display(years5.head())\n",
    "display(years5.shape)"
   ]
  },
  {
   "cell_type": "code",
   "execution_count": 22,
   "id": "41e12547",
   "metadata": {},
   "outputs": [
    {
     "name": "stdout",
     "output_type": "stream",
     "text": [
      "Revenue\n"
     ]
    },
    {
     "data": {
      "text/plain": [
       "count    8919.000000\n",
       "mean       95.802014\n",
       "std        46.822189\n",
       "min        32.540000\n",
       "25%        53.495000\n",
       "50%        89.500000\n",
       "75%       107.120000\n",
       "max       238.320000\n",
       "Name: revenue, dtype: float64"
      ]
     },
     "metadata": {},
     "output_type": "display_data"
    },
    {
     "name": "stdout",
     "output_type": "stream",
     "text": [
      "Frequency of week:\n",
      "1    0.224353\n",
      "5    0.179280\n",
      "4    0.178944\n",
      "2    0.167395\n",
      "3    0.155174\n",
      "6    0.094854\n",
      "Name: week, dtype: float64\n",
      "\n",
      "\n",
      "Frequency of new products sold:\n",
      "10    0.252046\n",
      "9     0.226931\n",
      "11    0.169526\n",
      "8     0.113690\n",
      "12    0.076914\n",
      "13    0.068618\n",
      "15    0.043166\n",
      "7     0.038569\n",
      "14    0.007736\n",
      "16    0.002803\n",
      "Name: nb_sold, dtype: float64\n",
      "\n",
      "\n",
      "Frequency of site visits:\n",
      "25    1014\n",
      "26     960\n",
      "24     932\n",
      "27     902\n",
      "23     886\n",
      "22     714\n",
      "28     712\n",
      "29     543\n",
      "21     520\n",
      "30     411\n",
      "Name: nb_site_visits, dtype: int64\n",
      "\n",
      "\n"
     ]
    }
   ],
   "source": [
    "#describe on revenue\n",
    "print(\"Revenue\")\n",
    "display(years5['revenue'].describe())\n",
    "\n",
    "#value counts of week\n",
    "print(f\"Frequency of week:\\n{years5['week'].value_counts(normalize=True)}\")\n",
    "print(\"\\n\")\n",
    "\n",
    "#value counts of nb_sold\n",
    "print(f\"Frequency of new products sold:\\n{years5['nb_sold'].value_counts(normalize=True)}\")\n",
    "print(\"\\n\")\n",
    "\n",
    "#value counts of years_as_customer\n",
    "print(f\"Frequency of site visits:\\n{years5['nb_site_visits'].value_counts().head(10)}\")"
   ]
  },
  {
   "cell_type": "markdown",
   "id": "dd343e40",
   "metadata": {},
   "source": [
    "Filtering for the top 5 years as customer which happen to be in the range of 0 to 4, with 8,919 instances. The `revenue`'s mean and median are quite similar to that of product_sales with 95.804 and 89.5 respectively. The frequency of the `week` attribute is similar to that of the dataset site_visits10 with 1 being the first at 22.4% or 2,001. The second and third spot are switched however with week 5 being above week 4 - 17.92% or 1,599 and a 17.89% or 1,596 respectively. \n",
    "\n",
    "The frequency of the `nb_sold` is similar to the site_visits10 and the original dataset with 10 being the highest making up 25.2% or 2,248 and 16 being the lowest at 0.02% or 25 of the dataset. The frequency of the `site_visits` are also the same with the product_sales dataset - 25 being the highest at 1,014."
   ]
  },
  {
   "cell_type": "code",
   "execution_count": 23,
   "id": "13f6c56b",
   "metadata": {},
   "outputs": [
    {
     "data": {
      "text/html": [
       "<div>\n",
       "<style scoped>\n",
       "    .dataframe tbody tr th:only-of-type {\n",
       "        vertical-align: middle;\n",
       "    }\n",
       "\n",
       "    .dataframe tbody tr th {\n",
       "        vertical-align: top;\n",
       "    }\n",
       "\n",
       "    .dataframe thead th {\n",
       "        text-align: right;\n",
       "    }\n",
       "</style>\n",
       "<table border=\"1\" class=\"dataframe\">\n",
       "  <thead>\n",
       "    <tr style=\"text-align: right;\">\n",
       "      <th></th>\n",
       "      <th>week</th>\n",
       "      <th>sales_method</th>\n",
       "      <th>customer_id</th>\n",
       "      <th>nb_sold</th>\n",
       "      <th>revenue</th>\n",
       "      <th>years_as_customer</th>\n",
       "      <th>nb_site_visits</th>\n",
       "      <th>state</th>\n",
       "    </tr>\n",
       "  </thead>\n",
       "  <tbody>\n",
       "    <tr>\n",
       "      <th>0</th>\n",
       "      <td>2</td>\n",
       "      <td>Email</td>\n",
       "      <td>2e72d641-95ac-497b-bbf8-4861764a7097</td>\n",
       "      <td>10</td>\n",
       "      <td>89.50</td>\n",
       "      <td>0</td>\n",
       "      <td>24</td>\n",
       "      <td>Arizona</td>\n",
       "    </tr>\n",
       "    <tr>\n",
       "      <th>2</th>\n",
       "      <td>5</td>\n",
       "      <td>Call</td>\n",
       "      <td>d1de9884-8059-4065-b10f-86eef57e4a44</td>\n",
       "      <td>11</td>\n",
       "      <td>52.55</td>\n",
       "      <td>6</td>\n",
       "      <td>26</td>\n",
       "      <td>Wisconsin</td>\n",
       "    </tr>\n",
       "    <tr>\n",
       "      <th>3</th>\n",
       "      <td>4</td>\n",
       "      <td>Email</td>\n",
       "      <td>78aa75a4-ffeb-4817-b1d0-2f030783c5d7</td>\n",
       "      <td>11</td>\n",
       "      <td>89.50</td>\n",
       "      <td>3</td>\n",
       "      <td>25</td>\n",
       "      <td>Indiana</td>\n",
       "    </tr>\n",
       "    <tr>\n",
       "      <th>4</th>\n",
       "      <td>3</td>\n",
       "      <td>Email</td>\n",
       "      <td>10e6d446-10a5-42e5-8210-1b5438f70922</td>\n",
       "      <td>9</td>\n",
       "      <td>90.49</td>\n",
       "      <td>0</td>\n",
       "      <td>28</td>\n",
       "      <td>Illinois</td>\n",
       "    </tr>\n",
       "    <tr>\n",
       "      <th>6</th>\n",
       "      <td>4</td>\n",
       "      <td>Email</td>\n",
       "      <td>eb6bd5f1-f115-4e4b-80a6-5e67fcfbfb94</td>\n",
       "      <td>11</td>\n",
       "      <td>113.38</td>\n",
       "      <td>9</td>\n",
       "      <td>28</td>\n",
       "      <td>Georgia</td>\n",
       "    </tr>\n",
       "  </tbody>\n",
       "</table>\n",
       "</div>"
      ],
      "text/plain": [
       "   week sales_method                           customer_id  nb_sold  revenue  \\\n",
       "0     2        Email  2e72d641-95ac-497b-bbf8-4861764a7097       10    89.50   \n",
       "2     5         Call  d1de9884-8059-4065-b10f-86eef57e4a44       11    52.55   \n",
       "3     4        Email  78aa75a4-ffeb-4817-b1d0-2f030783c5d7       11    89.50   \n",
       "4     3        Email  10e6d446-10a5-42e5-8210-1b5438f70922        9    90.49   \n",
       "6     4        Email  eb6bd5f1-f115-4e4b-80a6-5e67fcfbfb94       11   113.38   \n",
       "\n",
       "   years_as_customer  nb_site_visits      state  \n",
       "0                  0              24    Arizona  \n",
       "2                  6              26  Wisconsin  \n",
       "3                  3              25    Indiana  \n",
       "4                  0              28   Illinois  \n",
       "6                  9              28    Georgia  "
      ]
     },
     "metadata": {},
     "output_type": "display_data"
    },
    {
     "data": {
      "text/plain": [
       "(12678, 8)"
      ]
     },
     "metadata": {},
     "output_type": "display_data"
    }
   ],
   "source": [
    "#looking at the top 5 of the nb_sold attribute \n",
    "sold5 = product_sales[(product_sales['nb_sold'] >=8) & ((product_sales['nb_sold'] <=12))]\n",
    "\n",
    "display(sold5.head())\n",
    "display(sold5.shape)"
   ]
  },
  {
   "cell_type": "code",
   "execution_count": 24,
   "id": "897e66e2",
   "metadata": {},
   "outputs": [
    {
     "name": "stdout",
     "output_type": "stream",
     "text": [
      "Revenue\n"
     ]
    },
    {
     "data": {
      "text/plain": [
       "count    12678.000000\n",
       "mean        89.519334\n",
       "std         35.899099\n",
       "min         37.500000\n",
       "25%         53.280000\n",
       "50%         89.500000\n",
       "75%        104.147500\n",
       "max        187.500000\n",
       "Name: revenue, dtype: float64"
      ]
     },
     "metadata": {},
     "output_type": "display_data"
    },
    {
     "name": "stdout",
     "output_type": "stream",
     "text": [
      "Frequency of week:\n",
      "1    0.238445\n",
      "4    0.200820\n",
      "2    0.196403\n",
      "3    0.190172\n",
      "5    0.173135\n",
      "6    0.001025\n",
      "Name: week, dtype: float64\n",
      "\n",
      "\n",
      "Frequency of site visits:\n",
      "25    0.122101\n",
      "24    0.115476\n",
      "26    0.113109\n",
      "23    0.105932\n",
      "27    0.096151\n",
      "22    0.084635\n",
      "28    0.075406\n",
      "21    0.063180\n",
      "29    0.053636\n",
      "20    0.039517\n",
      "Name: nb_site_visits, dtype: float64\n",
      "\n",
      "\n",
      "Frequency of years as customer:\n",
      "1    2074\n",
      "2    1685\n",
      "3    1365\n",
      "0    1225\n",
      "4    1135\n",
      "5     936\n",
      "6     775\n",
      "7     608\n",
      "8     536\n",
      "9     439\n",
      "Name: years_as_customer, dtype: int64\n",
      "\n",
      "\n"
     ]
    }
   ],
   "source": [
    "#describe on revenue\n",
    "print(\"Revenue\")\n",
    "display(sold5['revenue'].describe())\n",
    "\n",
    "#value counts of week\n",
    "print(f\"Frequency of week:\\n{sold5['week'].value_counts(normalize=True)}\")\n",
    "print(\"\\n\")\n",
    "\n",
    "#value counts of nb_sold\n",
    "print(f\"Frequency of site visits:\\n{sold5['nb_site_visits'].value_counts(normalize=True).head(10)}\")\n",
    "print(\"\\n\")\n",
    "\n",
    "\n",
    "#value counts of years_as_customer\n",
    "print(f\"Frequency of years as customer:\\n{sold5['years_as_customer'].value_counts().head(10)}\")"
   ]
  },
  {
   "cell_type": "markdown",
   "id": "2b92eaba",
   "metadata": {},
   "source": [
    "Filtering by the top 5 `nb_sold`, which were in the range from 8 to 12 new products sold. The `revenue`'s mean and median were 89.52% and 89.5 respectively. This is the first dataset in which the mean is very close to the value of the median. \n",
    "\n",
    "The frequency of the `week` is similar to that of the other datasets and the original dataset, with week 1 at 23.84% making up the dataset or 3,023. For the `nb_site_visits` it is similar as well to the original, with 25 being the highest at 12.21% or 1,548. The other values are very close to one another. The frequency of the `years_as_customers` are the same with 1, 2, and 3 being the most frequent. "
   ]
  },
  {
   "cell_type": "markdown",
   "id": "5da06f4f",
   "metadata": {},
   "source": [
    "-----\n",
    "## Distribution of product_sales"
   ]
  },
  {
   "cell_type": "code",
   "execution_count": 25,
   "id": "5989d0be",
   "metadata": {},
   "outputs": [
    {
     "data": {
      "image/png": "[encoded data removed]",
      "text/plain": [
       "<Figure size 720x504 with 1 Axes>"
      ]
     },
     "metadata": {
      "needs_background": "light"
     },
     "output_type": "display_data"
    }
   ],
   "source": [
    "#distribution of sales method using histogram\n",
    "plt.figure(figsize=(10,7))\n",
    "sns.histplot(data=product_sales, x='revenue', kde=True)\n",
    "plt.xlabel('Revenue')\n",
    "plt.title('Distribution of Revenue');"
   ]
  },
  {
   "cell_type": "markdown",
   "id": "cba7adda",
   "metadata": {},
   "source": [
    "The distibution for revenue with no filtering is quite interesting, can see that there are some peaks and dips throughout the dataset. There is a bulk of the values between 30 to 70ish, then it dips and picks back up from 80 to 150, and then dips again. As well as another bulk of the values between 170 to 200, and finally a bulk below to 250."
   ]
  },
  {
   "cell_type": "markdown",
   "id": "83d3c742",
   "metadata": {},
   "source": [
    "------\n",
    "## Sales Methods & Distributions\n",
    "\n",
    "### Email"
   ]
  },
  {
   "cell_type": "code",
   "execution_count": 26,
   "id": "9c9d2871",
   "metadata": {},
   "outputs": [
    {
     "data": {
      "text/html": [
       "<div>\n",
       "<style scoped>\n",
       "    .dataframe tbody tr th:only-of-type {\n",
       "        vertical-align: middle;\n",
       "    }\n",
       "\n",
       "    .dataframe tbody tr th {\n",
       "        vertical-align: top;\n",
       "    }\n",
       "\n",
       "    .dataframe thead th {\n",
       "        text-align: right;\n",
       "    }\n",
       "</style>\n",
       "<table border=\"1\" class=\"dataframe\">\n",
       "  <thead>\n",
       "    <tr style=\"text-align: right;\">\n",
       "      <th></th>\n",
       "      <th>week</th>\n",
       "      <th>sales_method</th>\n",
       "      <th>customer_id</th>\n",
       "      <th>nb_sold</th>\n",
       "      <th>revenue</th>\n",
       "      <th>years_as_customer</th>\n",
       "      <th>nb_site_visits</th>\n",
       "      <th>state</th>\n",
       "    </tr>\n",
       "  </thead>\n",
       "  <tbody>\n",
       "    <tr>\n",
       "      <th>0</th>\n",
       "      <td>2</td>\n",
       "      <td>Email</td>\n",
       "      <td>2e72d641-95ac-497b-bbf8-4861764a7097</td>\n",
       "      <td>10</td>\n",
       "      <td>89.50</td>\n",
       "      <td>0</td>\n",
       "      <td>24</td>\n",
       "      <td>Arizona</td>\n",
       "    </tr>\n",
       "    <tr>\n",
       "      <th>3</th>\n",
       "      <td>4</td>\n",
       "      <td>Email</td>\n",
       "      <td>78aa75a4-ffeb-4817-b1d0-2f030783c5d7</td>\n",
       "      <td>11</td>\n",
       "      <td>89.50</td>\n",
       "      <td>3</td>\n",
       "      <td>25</td>\n",
       "      <td>Indiana</td>\n",
       "    </tr>\n",
       "    <tr>\n",
       "      <th>4</th>\n",
       "      <td>3</td>\n",
       "      <td>Email</td>\n",
       "      <td>10e6d446-10a5-42e5-8210-1b5438f70922</td>\n",
       "      <td>9</td>\n",
       "      <td>90.49</td>\n",
       "      <td>0</td>\n",
       "      <td>28</td>\n",
       "      <td>Illinois</td>\n",
       "    </tr>\n",
       "    <tr>\n",
       "      <th>6</th>\n",
       "      <td>4</td>\n",
       "      <td>Email</td>\n",
       "      <td>eb6bd5f1-f115-4e4b-80a6-5e67fcfbfb94</td>\n",
       "      <td>11</td>\n",
       "      <td>113.38</td>\n",
       "      <td>9</td>\n",
       "      <td>28</td>\n",
       "      <td>Georgia</td>\n",
       "    </tr>\n",
       "    <tr>\n",
       "      <th>7</th>\n",
       "      <td>1</td>\n",
       "      <td>Email</td>\n",
       "      <td>047df079-071b-4380-9012-2bfe9bce45d5</td>\n",
       "      <td>10</td>\n",
       "      <td>99.94</td>\n",
       "      <td>1</td>\n",
       "      <td>22</td>\n",
       "      <td>Oklahoma</td>\n",
       "    </tr>\n",
       "  </tbody>\n",
       "</table>\n",
       "</div>"
      ],
      "text/plain": [
       "   week sales_method                           customer_id  nb_sold  revenue  \\\n",
       "0     2        Email  2e72d641-95ac-497b-bbf8-4861764a7097       10    89.50   \n",
       "3     4        Email  78aa75a4-ffeb-4817-b1d0-2f030783c5d7       11    89.50   \n",
       "4     3        Email  10e6d446-10a5-42e5-8210-1b5438f70922        9    90.49   \n",
       "6     4        Email  eb6bd5f1-f115-4e4b-80a6-5e67fcfbfb94       11   113.38   \n",
       "7     1        Email  047df079-071b-4380-9012-2bfe9bce45d5       10    99.94   \n",
       "\n",
       "   years_as_customer  nb_site_visits     state  \n",
       "0                  0              24   Arizona  \n",
       "3                  3              25   Indiana  \n",
       "4                  0              28  Illinois  \n",
       "6                  9              28   Georgia  \n",
       "7                  1              22  Oklahoma  "
      ]
     },
     "metadata": {},
     "output_type": "display_data"
    },
    {
     "data": {
      "text/plain": [
       "(7465, 8)"
      ]
     },
     "metadata": {},
     "output_type": "display_data"
    }
   ],
   "source": [
    "#looking at the Email sales_method\n",
    "email = product_sales[product_sales['sales_method'] == 'Email']\n",
    "\n",
    "display(email.head())\n",
    "display(email.shape)"
   ]
  },
  {
   "cell_type": "code",
   "execution_count": 27,
   "id": "46bc135f",
   "metadata": {},
   "outputs": [
    {
     "name": "stdout",
     "output_type": "stream",
     "text": [
      "Revenue\n"
     ]
    },
    {
     "data": {
      "text/plain": [
       "count    7465.000000\n",
       "mean       96.571816\n",
       "std        10.975578\n",
       "min        78.830000\n",
       "25%        88.390000\n",
       "50%        94.270000\n",
       "75%       104.460000\n",
       "max       148.970000\n",
       "Name: revenue, dtype: float64"
      ]
     },
     "metadata": {},
     "output_type": "display_data"
    },
    {
     "name": "stdout",
     "output_type": "stream",
     "text": [
      "Frequency of week:\n",
      "1    2815\n",
      "2    1485\n",
      "3    1150\n",
      "4    1075\n",
      "5     743\n",
      "6     197\n",
      "Name: week, dtype: int64\n",
      "\n",
      "\n",
      "Frequency of site visits:\n",
      "25    920\n",
      "24    886\n",
      "26    846\n",
      "23    802\n",
      "27    691\n",
      "22    634\n",
      "28    531\n",
      "21    490\n",
      "29    381\n",
      "20    307\n",
      "Name: nb_site_visits, dtype: int64\n",
      "\n",
      "\n",
      "Frequency of products sold:\n",
      "9     2576\n",
      "10    1968\n",
      "11    1531\n",
      "8      998\n",
      "12     194\n",
      "13     163\n",
      "14      32\n",
      "15       3\n",
      "Name: nb_sold, dtype: int64\n",
      "\n",
      "\n",
      "Frequency of years as customer:\n",
      "1    1217\n",
      "2    1024\n",
      "3     789\n",
      "0     718\n",
      "4     686\n",
      "5     545\n",
      "6     449\n",
      "7     381\n",
      "8     314\n",
      "9     255\n",
      "Name: years_as_customer, dtype: int64\n"
     ]
    }
   ],
   "source": [
    "#describe on revenue\n",
    "print(\"Revenue\")\n",
    "display(email['revenue'].describe())\n",
    "\n",
    "#value counts of week\n",
    "print(f\"Frequency of week:\\n{email['week'].value_counts()}\")\n",
    "print(\"\\n\")\n",
    "\n",
    "#value counts of nb_sold\n",
    "print(f\"Frequency of site visits:\\n{email['nb_site_visits'].value_counts().head(10)}\")\n",
    "print(\"\\n\")\n",
    "\n",
    "#value counts of years_as_customer\n",
    "print(f\"Frequency of products sold:\\n{email['nb_sold'].value_counts().head(10)}\")\n",
    "print(\"\\n\")\n",
    "\n",
    "#value counts of years_as_customer\n",
    "print(f\"Frequency of years as customer:\\n{email['years_as_customer'].value_counts().head(10)}\")"
   ]
  },
  {
   "cell_type": "markdown",
   "id": "99c1f020",
   "metadata": {},
   "source": [
    "For the email sales method can see that the `revenue` the mean and median are higher than the previous datasets with 96.57 and 94.27 respectively. The frequency of the `week` is in chronological order with 1 the highest at 2,815 and 6 being the lowest with 197. \n",
    "\n",
    "The `nb_site_visits` follows the original and other datasets with 25 being the highest at 920. The `nb_sold` switched the highest and second highest with 9 being the first with 2,576 as opposed to 10 like in the others. The `years_as_customers` are the same as the others with 1, 2, and 3 being the highest. "
   ]
  },
  {
   "cell_type": "markdown",
   "id": "5bf32229",
   "metadata": {},
   "source": [
    "### Email Distribution"
   ]
  },
  {
   "cell_type": "code",
   "execution_count": 28,
   "id": "b056efe4",
   "metadata": {
    "scrolled": false
   },
   "outputs": [
    {
     "data": {
      "image/png": "[encoded data removed]",
      "text/plain": [
       "<Figure size 720x504 with 1 Axes>"
      ]
     },
     "metadata": {
      "needs_background": "light"
     },
     "output_type": "display_data"
    }
   ],
   "source": [
    "#distribution of sales method using histogram\n",
    "plt.figure(figsize=(10,7))\n",
    "sns.histplot(data=email, x='revenue', kde=True)\n",
    "plt.xlabel('Revenue')\n",
    "plt.title('Distribution of Revenue by Sales Method - Email');"
   ]
  },
  {
   "cell_type": "markdown",
   "id": "f7707f54",
   "metadata": {},
   "source": [
    "The distribution of revenue for the sales method Email shows that a bulk of those of values are in the early 90s. As show before with the .describe() method most of the values are above the original dataset, product_sales's median. The range is from 80 to a little under 150. The sales method - Email make up the part of from the distrbution of product_sales, it also has 7,465 entries making up 49.77% of the data."
   ]
  },
  {
   "cell_type": "markdown",
   "id": "b3761516",
   "metadata": {},
   "source": [
    "### Email Visualizations"
   ]
  },
  {
   "cell_type": "code",
   "execution_count": 29,
   "id": "0e62abdb",
   "metadata": {},
   "outputs": [
    {
     "data": {
      "image/png": "[encoded data removed]",
      "text/plain": [
       "<Figure size 720x504 with 1 Axes>"
      ]
     },
     "metadata": {
      "needs_background": "light"
     },
     "output_type": "display_data"
    }
   ],
   "source": [
    "#violinplot for week \n",
    "plt.figure(figsize=(10,7))\n",
    "sns.violinplot(data=email, x='week', y='revenue', palette=\"Blues\")\n",
    "plt.xlabel('Week')\n",
    "plt.ylabel('Amount of Revenue')\n",
    "plt.title('Range of Revenue by Week After Product Launch');"
   ]
  },
  {
   "cell_type": "markdown",
   "id": "f0fd9c96",
   "metadata": {},
   "source": [
    "With this violinplot can see that the weeks 1, 2, and 3 have a lower range of revenue compared to the later weeks. Can also see that the higher revenue is spent mostly in chronological order except for in week 3 when there is a lull in higher revenue but then it picks back up for week 4."
   ]
  },
  {
   "cell_type": "code",
   "execution_count": 30,
   "id": "f274cdfd",
   "metadata": {},
   "outputs": [
    {
     "data": {
      "image/png": "[encoded data removed]",
      "text/plain": [
       "<Figure size 720x504 with 1 Axes>"
      ]
     },
     "metadata": {
      "needs_background": "light"
     },
     "output_type": "display_data"
    }
   ],
   "source": [
    "#boxplot for years_as_customer by revenue sales method - Email\n",
    "plt.figure(figsize=(10,7))\n",
    "sns.boxplot(data=email, x='years_as_customer', y='revenue', order=email.years_as_customer.value_counts().iloc[:5].index, palette=\"Blues\")\n",
    "plt.xlabel('Years')\n",
    "plt.ylabel('Amount of Revenue')\n",
    "plt.title('Revenue & Top 5 Years as Customer by Sales Method - Email');"
   ]
  },
  {
   "cell_type": "markdown",
   "id": "419158b4",
   "metadata": {},
   "source": [
    "From before I know that the years - 1, 2 and 3 have the highest values. The boxplot shows the relationship with revenue for the top 10 years are quite similar - having a range of revenue from 80 to 130 with a couple outliers reaching to 140 and 150. "
   ]
  },
  {
   "cell_type": "code",
   "execution_count": 31,
   "id": "e22810c4",
   "metadata": {},
   "outputs": [
    {
     "data": {
      "image/png": "[encoded data removed]",
      "text/plain": [
       "<Figure size 720x504 with 1 Axes>"
      ]
     },
     "metadata": {
      "needs_background": "light"
     },
     "output_type": "display_data"
    }
   ],
   "source": [
    "#boxplot for nb_site_visits by revenue sales method - Email\n",
    "plt.figure(figsize=(10,7))\n",
    "sns.boxplot(data=email, x='nb_site_visits', y='revenue', order=email.nb_site_visits.value_counts().iloc[:5].index, palette=\"Blues\")\n",
    "plt.xlabel('Site Vists')\n",
    "plt.ylabel('Amount of Revenue')\n",
    "plt.title('Revenue & Top 5 Site Visits by Sales Method - Email');"
   ]
  },
  {
   "cell_type": "markdown",
   "id": "a996915f",
   "metadata": {},
   "source": [
    "This boxplot showing the relationship between site visits and revenue is very similar to the years as customer boxplot. The top 5 `nb_site_visits` mostly have a range from 80 to 130 except for 23 which ends at 120; and outliers that reach to 140. However can see that if a customer visits the site 27 times the revenue tends to be a higher amount. "
   ]
  },
  {
   "cell_type": "code",
   "execution_count": 32,
   "id": "74c6a7b9",
   "metadata": {},
   "outputs": [
    {
     "data": {
      "image/png": "[encoded data removed]",
      "text/plain": [
       "<Figure size 720x504 with 1 Axes>"
      ]
     },
     "metadata": {
      "needs_background": "light"
     },
     "output_type": "display_data"
    }
   ],
   "source": [
    "#boxplot for nb_sold by revenue sales method - Email\n",
    "plt.figure(figsize=(10,7))\n",
    "sns.boxplot(data=email, x='nb_sold', y='revenue', order=email.nb_sold.value_counts().iloc[:5].index, palette=\"Blues\")\n",
    "plt.xlabel('Products Sold')\n",
    "plt.ylabel('Amount of Revenue')\n",
    "plt.title('Revenue & Top 5 New Products Sold by Sales Method - Email');"
   ]
  },
  {
   "cell_type": "markdown",
   "id": "68e1b5f2",
   "metadata": {},
   "source": [
    "This boxplot shows that the range of revenue for the products sold does not tend to vary by much usually with 10 values. Can also see that the more products sold the higher the revenue - which makes sense. There are some outliers with 11 and 12 where the revenues are much lower than expected for the amount of products sold."
   ]
  },
  {
   "cell_type": "markdown",
   "id": "bf05f319",
   "metadata": {},
   "source": [
    "-------\n",
    "### Call"
   ]
  },
  {
   "cell_type": "code",
   "execution_count": 33,
   "id": "87df5493",
   "metadata": {},
   "outputs": [
    {
     "data": {
      "text/html": [
       "<div>\n",
       "<style scoped>\n",
       "    .dataframe tbody tr th:only-of-type {\n",
       "        vertical-align: middle;\n",
       "    }\n",
       "\n",
       "    .dataframe tbody tr th {\n",
       "        vertical-align: top;\n",
       "    }\n",
       "\n",
       "    .dataframe thead th {\n",
       "        text-align: right;\n",
       "    }\n",
       "</style>\n",
       "<table border=\"1\" class=\"dataframe\">\n",
       "  <thead>\n",
       "    <tr style=\"text-align: right;\">\n",
       "      <th></th>\n",
       "      <th>week</th>\n",
       "      <th>sales_method</th>\n",
       "      <th>customer_id</th>\n",
       "      <th>nb_sold</th>\n",
       "      <th>revenue</th>\n",
       "      <th>years_as_customer</th>\n",
       "      <th>nb_site_visits</th>\n",
       "      <th>state</th>\n",
       "    </tr>\n",
       "  </thead>\n",
       "  <tbody>\n",
       "    <tr>\n",
       "      <th>2</th>\n",
       "      <td>5</td>\n",
       "      <td>Call</td>\n",
       "      <td>d1de9884-8059-4065-b10f-86eef57e4a44</td>\n",
       "      <td>11</td>\n",
       "      <td>52.55</td>\n",
       "      <td>6</td>\n",
       "      <td>26</td>\n",
       "      <td>Wisconsin</td>\n",
       "    </tr>\n",
       "    <tr>\n",
       "      <th>5</th>\n",
       "      <td>6</td>\n",
       "      <td>Call</td>\n",
       "      <td>6489e678-40f2-4fed-a48e-d0dff9c09205</td>\n",
       "      <td>13</td>\n",
       "      <td>65.01</td>\n",
       "      <td>10</td>\n",
       "      <td>24</td>\n",
       "      <td>Mississippi</td>\n",
       "    </tr>\n",
       "    <tr>\n",
       "      <th>9</th>\n",
       "      <td>5</td>\n",
       "      <td>Call</td>\n",
       "      <td>56491dae-bbe7-49f0-a651-b823a01103d8</td>\n",
       "      <td>11</td>\n",
       "      <td>53.82</td>\n",
       "      <td>7</td>\n",
       "      <td>23</td>\n",
       "      <td>Missouri</td>\n",
       "    </tr>\n",
       "    <tr>\n",
       "      <th>11</th>\n",
       "      <td>2</td>\n",
       "      <td>Call</td>\n",
       "      <td>c20ab049-cbac-4ba7-8868-310aa89e0549</td>\n",
       "      <td>9</td>\n",
       "      <td>45.42</td>\n",
       "      <td>2</td>\n",
       "      <td>23</td>\n",
       "      <td>New York</td>\n",
       "    </tr>\n",
       "    <tr>\n",
       "      <th>12</th>\n",
       "      <td>5</td>\n",
       "      <td>Call</td>\n",
       "      <td>0b026b91-fe12-4af0-86f9-387ba81c8fdb</td>\n",
       "      <td>11</td>\n",
       "      <td>53.42</td>\n",
       "      <td>2</td>\n",
       "      <td>30</td>\n",
       "      <td>Maryland</td>\n",
       "    </tr>\n",
       "  </tbody>\n",
       "</table>\n",
       "</div>"
      ],
      "text/plain": [
       "    week sales_method                           customer_id  nb_sold  revenue  \\\n",
       "2      5         Call  d1de9884-8059-4065-b10f-86eef57e4a44       11    52.55   \n",
       "5      6         Call  6489e678-40f2-4fed-a48e-d0dff9c09205       13    65.01   \n",
       "9      5         Call  56491dae-bbe7-49f0-a651-b823a01103d8       11    53.82   \n",
       "11     2         Call  c20ab049-cbac-4ba7-8868-310aa89e0549        9    45.42   \n",
       "12     5         Call  0b026b91-fe12-4af0-86f9-387ba81c8fdb       11    53.42   \n",
       "\n",
       "    years_as_customer  nb_site_visits        state  \n",
       "2                   6              26    Wisconsin  \n",
       "5                  10              24  Mississippi  \n",
       "9                   7              23     Missouri  \n",
       "11                  2              23     New York  \n",
       "12                  2              30     Maryland  "
      ]
     },
     "metadata": {},
     "output_type": "display_data"
    },
    {
     "data": {
      "text/plain": [
       "(4961, 8)"
      ]
     },
     "metadata": {},
     "output_type": "display_data"
    }
   ],
   "source": [
    "#looking at the Call sales_method\n",
    "call = product_sales[product_sales['sales_method'] == 'Call']\n",
    "\n",
    "display(call.head())\n",
    "display(call.shape)"
   ]
  },
  {
   "cell_type": "code",
   "execution_count": 35,
   "id": "36a96572",
   "metadata": {},
   "outputs": [
    {
     "name": "stdout",
     "output_type": "stream",
     "text": [
      "Revenue\n"
     ]
    },
    {
     "data": {
      "text/plain": [
       "count    4961.000000\n",
       "mean       49.125684\n",
       "std        11.540187\n",
       "min        32.540000\n",
       "25%        41.630000\n",
       "50%        49.930000\n",
       "75%        52.980000\n",
       "max        89.500000\n",
       "Name: revenue, dtype: float64"
      ]
     },
     "metadata": {},
     "output_type": "display_data"
    },
    {
     "name": "stdout",
     "output_type": "stream",
     "text": [
      "Frequency of week:\n",
      "5    1044\n",
      "4    1004\n",
      "3     902\n",
      "2     805\n",
      "1     758\n",
      "6     448\n",
      "Name: week, dtype: int64\n",
      "\n",
      "\n",
      "Frequency of site visits:\n",
      "23    520\n",
      "25    516\n",
      "26    503\n",
      "24    495\n",
      "22    442\n",
      "27    431\n",
      "28    361\n",
      "21    357\n",
      "20    260\n",
      "29    254\n",
      "Name: nb_site_visits, dtype: int64\n",
      "\n",
      "\n",
      "Frequency of products sold:\n",
      "10    1168\n",
      "8      892\n",
      "11     888\n",
      "9      862\n",
      "7      698\n",
      "13     383\n",
      "14      65\n",
      "12       5\n",
      "Name: nb_sold, dtype: int64\n",
      "\n",
      "\n",
      "Frequency of years as customer:\n",
      "1    839\n",
      "2    627\n",
      "3    537\n",
      "4    425\n",
      "0    417\n",
      "5    386\n",
      "6    320\n",
      "7    232\n",
      "8    198\n",
      "9    185\n",
      "Name: years_as_customer, dtype: int64\n"
     ]
    }
   ],
   "source": [
    "#describe on revenue\n",
    "print(\"Revenue\")\n",
    "display(call['revenue'].describe())\n",
    "\n",
    "#value counts of week\n",
    "print(f\"Frequency of week:\\n{call['week'].value_counts()}\")\n",
    "print(\"\\n\")\n",
    "\n",
    "#value counts of nb_sold\n",
    "print(f\"Frequency of site visits:\\n{call['nb_site_visits'].value_counts().head(10)}\")\n",
    "print(\"\\n\")\n",
    "\n",
    "#value counts of years_as_customer\n",
    "print(f\"Frequency of products sold:\\n{call['nb_sold'].value_counts().head(10)}\")\n",
    "print(\"\\n\")\n",
    "\n",
    "#value counts of years_as_customer\n",
    "print(f\"Frequency of years as customer:\\n{call['years_as_customer'].value_counts().head(10)}\")"
   ]
  },
  {
   "cell_type": "markdown",
   "id": "79ac92b7",
   "metadata": {},
   "source": [
    "For the Call sales method can see that the `revenue`'s mean and the median is significantly lower than the previous datasets with 49.13 and 49.93 respectively. The frequency of the `week` highest value is week 5 at 1044, with week 4 being a close second at 1004.\n",
    "\n",
    "The `nb_site_visits `follows the original and other datasets with the top 10 mostly being in the range of 21 to 30, except for 20. Also the highest value is 23 at 520 instead of 25 by a difference of 4. The `nb_sold` has the highest being 10 at 1,168 like in the other datasets. The years_as_customers are the same as the others with 1, 2, and 3 being the highest."
   ]
  },
  {
   "cell_type": "markdown",
   "id": "25505f2f",
   "metadata": {},
   "source": [
    "### Call Distribution"
   ]
  },
  {
   "cell_type": "code",
   "execution_count": 36,
   "id": "45630b6b",
   "metadata": {},
   "outputs": [
    {
     "data": {
      "image/png": "[encoded data removed]",
      "text/plain": [
       "<Figure size 720x504 with 1 Axes>"
      ]
     },
     "metadata": {
      "needs_background": "light"
     },
     "output_type": "display_data"
    }
   ],
   "source": [
    "#distribution of sales method using histogram\n",
    "plt.figure(figsize=(10,7))\n",
    "sns.histplot(data=call, x='revenue', kde=True)\n",
    "plt.xlabel('Revenue')\n",
    "plt.title('Distribution of Revenue by Sales Method - Call');"
   ]
  },
  {
   "cell_type": "markdown",
   "id": "0e7e9e6a",
   "metadata": {},
   "source": [
    "The distribution of revenue for the sales method Call shows that a bulk of the of values are in the range of early 30s to just under 60. There is also some values in the range 60s to but over 70 with no values until a little under 90. As show before with the .describe() method most of the values are under the original dataset, product_sales' median. The range is from early 30s to a little under 90. The sales method - Call make up the part of from the distrbution of product_sales, it also has 4,961 values making up 33.08% of the data."
   ]
  },
  {
   "cell_type": "markdown",
   "id": "98714661",
   "metadata": {},
   "source": [
    "### Call Visualizations"
   ]
  },
  {
   "cell_type": "code",
   "execution_count": 37,
   "id": "fc3efda2",
   "metadata": {},
   "outputs": [
    {
     "data": {
      "image/png": "[encoded data removed]",
      "text/plain": [
       "<Figure size 720x504 with 1 Axes>"
      ]
     },
     "metadata": {
      "needs_background": "light"
     },
     "output_type": "display_data"
    }
   ],
   "source": [
    "#violinplot for week \n",
    "plt.figure(figsize=(10,7))\n",
    "sns.violinplot(data=call, x='week', y='revenue', palette=\"Blues\")\n",
    "plt.xlabel('Week')\n",
    "plt.ylabel('Amount of Revenue')\n",
    "plt.title('Range of Revenue by Week After Product Launch (Call Sales Method)');"
   ]
  },
  {
   "cell_type": "markdown",
   "id": "c1d793cc",
   "metadata": {},
   "source": [
    "With this violinplot can see that all of the weeks have the bulk of their values in the lower end of their range - with week 1 having the largest range with 30 to 90. Also knowing from before that 5 and 4 have the most values, their plots are almost the most similar with their range starting just under 50 and going to 90. Also as the week progresses can see that more revenue is earned per customer. "
   ]
  },
  {
   "cell_type": "code",
   "execution_count": 38,
   "id": "b5546d20",
   "metadata": {},
   "outputs": [
    {
     "data": {
      "image/png": "[encoded data removed]",
      "text/plain": [
       "<Figure size 720x504 with 1 Axes>"
      ]
     },
     "metadata": {
      "needs_background": "light"
     },
     "output_type": "display_data"
    }
   ],
   "source": [
    "#boxplot for years_as_customer by revenue sales method - Call\n",
    "plt.figure(figsize=(10,7))\n",
    "sns.boxplot(data=call, x='years_as_customer', y='revenue', order=call.years_as_customer.value_counts().iloc[:5].index, palette=\"Blues\")\n",
    "plt.xlabel('Years')\n",
    "plt.ylabel('Amount of Revenue')\n",
    "plt.title('Revenue & Top 5 Years as Customer by Sales Method - Call');"
   ]
  },
  {
   "cell_type": "markdown",
   "id": "a22c7215",
   "metadata": {},
   "source": [
    "From this boxplot can see that there is not much of difference between the year's as customer and revenue, most of the customers regardless of how long they have been customer have the same range - from early 30s to 70, with outliers going up to 90. The median for the top 5 years are in very similar with just above 50. Also most of the values fall within the range of 45 to early 50s. "
   ]
  },
  {
   "cell_type": "code",
   "execution_count": 39,
   "id": "5ca95dd6",
   "metadata": {},
   "outputs": [
    {
     "data": {
      "image/png": "[encoded data removed]",
      "text/plain": [
       "<Figure size 720x504 with 1 Axes>"
      ]
     },
     "metadata": {
      "needs_background": "light"
     },
     "output_type": "display_data"
    }
   ],
   "source": [
    "#boxplot for nb_site_visits by revenue sales method - Call\n",
    "plt.figure(figsize=(10,7))\n",
    "sns.boxplot(data=call, x='nb_site_visits', y='revenue', order=call.nb_site_visits.value_counts().iloc[:5].index, palette=\"Blues\")\n",
    "plt.xlabel('Site Vists')\n",
    "plt.ylabel('Amount of Revenue')\n",
    "plt.title('Revenue & Top 5 Site Visits by Sales Method - Call');"
   ]
  },
  {
   "cell_type": "markdown",
   "id": "d343d316",
   "metadata": {},
   "source": [
    "From this box plot can see that bulk of the values (75%) falls within a little bit of 30 to just under 70, with outliers going up to 90. The median for values 23, 24, and 22 are in the lower end of where most values are at a bit above of 40. The median for values 25 and 26 are a bit above 50, this shows that more customers take a visit the site within 6 months the more revenue is earned. "
   ]
  },
  {
   "cell_type": "code",
   "execution_count": 40,
   "id": "2a954832",
   "metadata": {},
   "outputs": [
    {
     "data": {
      "image/png": "[encoded data removed]",
      "text/plain": [
       "<Figure size 720x504 with 1 Axes>"
      ]
     },
     "metadata": {
      "needs_background": "light"
     },
     "output_type": "display_data"
    }
   ],
   "source": [
    "#boxplot for nb_sold by revenue sales method - Call\n",
    "plt.figure(figsize=(10,7))\n",
    "sns.boxplot(data=email, x='nb_sold', y='revenue', order=call.nb_sold.value_counts().iloc[:5].index, palette=\"Blues\")\n",
    "plt.xlabel('Products Sold')\n",
    "plt.ylabel('Amount of Revenue')\n",
    "plt.title('Revenue & Top 5 New Products Sold by Sales Method - Call');"
   ]
  },
  {
   "cell_type": "markdown",
   "id": "63331937",
   "metadata": {},
   "source": [
    "This boxplot shows that more products sold the more revenue earned per customer (which makes sense). It is interesting to see that the range for the lower products sold is smaller - which could be that as soon as a new product is added it'll be bumped into a different range. Although can see that there is some overlap in revenue between the products sold such as 10 starting range overlapping with 9's. "
   ]
  },
  {
   "cell_type": "markdown",
   "id": "0373eabc",
   "metadata": {},
   "source": [
    "----\n",
    "### Email + Call"
   ]
  },
  {
   "cell_type": "code",
   "execution_count": 41,
   "id": "babc0498",
   "metadata": {},
   "outputs": [
    {
     "data": {
      "text/html": [
       "<div>\n",
       "<style scoped>\n",
       "    .dataframe tbody tr th:only-of-type {\n",
       "        vertical-align: middle;\n",
       "    }\n",
       "\n",
       "    .dataframe tbody tr th {\n",
       "        vertical-align: top;\n",
       "    }\n",
       "\n",
       "    .dataframe thead th {\n",
       "        text-align: right;\n",
       "    }\n",
       "</style>\n",
       "<table border=\"1\" class=\"dataframe\">\n",
       "  <thead>\n",
       "    <tr style=\"text-align: right;\">\n",
       "      <th></th>\n",
       "      <th>week</th>\n",
       "      <th>sales_method</th>\n",
       "      <th>customer_id</th>\n",
       "      <th>nb_sold</th>\n",
       "      <th>revenue</th>\n",
       "      <th>years_as_customer</th>\n",
       "      <th>nb_site_visits</th>\n",
       "      <th>state</th>\n",
       "    </tr>\n",
       "  </thead>\n",
       "  <tbody>\n",
       "    <tr>\n",
       "      <th>1</th>\n",
       "      <td>6</td>\n",
       "      <td>Email + Call</td>\n",
       "      <td>3998a98d-70f5-44f7-942e-789bb8ad2fe7</td>\n",
       "      <td>15</td>\n",
       "      <td>225.47</td>\n",
       "      <td>1</td>\n",
       "      <td>28</td>\n",
       "      <td>Kansas</td>\n",
       "    </tr>\n",
       "    <tr>\n",
       "      <th>17</th>\n",
       "      <td>6</td>\n",
       "      <td>Email + Call</td>\n",
       "      <td>d10690f0-6f63-409f-a1da-8ab0e5388390</td>\n",
       "      <td>15</td>\n",
       "      <td>89.50</td>\n",
       "      <td>0</td>\n",
       "      <td>24</td>\n",
       "      <td>Wisconsin</td>\n",
       "    </tr>\n",
       "    <tr>\n",
       "      <th>21</th>\n",
       "      <td>1</td>\n",
       "      <td>Email + Call</td>\n",
       "      <td>544cf718-2b90-4e9f-ac4a-40ba0e7f2c88</td>\n",
       "      <td>9</td>\n",
       "      <td>128.87</td>\n",
       "      <td>6</td>\n",
       "      <td>24</td>\n",
       "      <td>Michigan</td>\n",
       "    </tr>\n",
       "    <tr>\n",
       "      <th>22</th>\n",
       "      <td>3</td>\n",
       "      <td>Email + Call</td>\n",
       "      <td>d72de17a-0d71-401b-b64a-dc4492b2b1ed</td>\n",
       "      <td>10</td>\n",
       "      <td>150.47</td>\n",
       "      <td>20</td>\n",
       "      <td>21</td>\n",
       "      <td>North Carolina</td>\n",
       "    </tr>\n",
       "    <tr>\n",
       "      <th>27</th>\n",
       "      <td>3</td>\n",
       "      <td>Email + Call</td>\n",
       "      <td>2c211b5b-7e1b-4b19-949e-a35f67e9fe25</td>\n",
       "      <td>10</td>\n",
       "      <td>153.07</td>\n",
       "      <td>8</td>\n",
       "      <td>24</td>\n",
       "      <td>Michigan</td>\n",
       "    </tr>\n",
       "  </tbody>\n",
       "</table>\n",
       "</div>"
      ],
      "text/plain": [
       "    week  sales_method                           customer_id  nb_sold  \\\n",
       "1      6  Email + Call  3998a98d-70f5-44f7-942e-789bb8ad2fe7       15   \n",
       "17     6  Email + Call  d10690f0-6f63-409f-a1da-8ab0e5388390       15   \n",
       "21     1  Email + Call  544cf718-2b90-4e9f-ac4a-40ba0e7f2c88        9   \n",
       "22     3  Email + Call  d72de17a-0d71-401b-b64a-dc4492b2b1ed       10   \n",
       "27     3  Email + Call  2c211b5b-7e1b-4b19-949e-a35f67e9fe25       10   \n",
       "\n",
       "    revenue  years_as_customer  nb_site_visits           state  \n",
       "1    225.47                  1              28          Kansas  \n",
       "17    89.50                  0              24       Wisconsin  \n",
       "21   128.87                  6              24        Michigan  \n",
       "22   150.47                 20              21  North Carolina  \n",
       "27   153.07                  8              24        Michigan  "
      ]
     },
     "metadata": {},
     "output_type": "display_data"
    },
    {
     "data": {
      "text/plain": [
       "(2572, 8)"
      ]
     },
     "metadata": {},
     "output_type": "display_data"
    }
   ],
   "source": [
    "#looking at the Email + Call sales_method\n",
    "email_call = product_sales[product_sales['sales_method'] == 'Email + Call']\n",
    "\n",
    "display(email_call.head())\n",
    "display(email_call.shape)"
   ]
  },
  {
   "cell_type": "code",
   "execution_count": 42,
   "id": "22f8eb55",
   "metadata": {},
   "outputs": [
    {
     "name": "stdout",
     "output_type": "stream",
     "text": [
      "Revenue\n"
     ]
    },
    {
     "data": {
      "text/plain": [
       "count    2572.000000\n",
       "mean      170.875657\n",
       "std        42.084163\n",
       "min        89.500000\n",
       "25%       149.822500\n",
       "50%       182.135000\n",
       "75%       189.535000\n",
       "max       238.320000\n",
       "Name: revenue, dtype: float64"
      ]
     },
     "metadata": {},
     "output_type": "display_data"
    },
    {
     "name": "stdout",
     "output_type": "stream",
     "text": [
      "Frequency of week:\n",
      "5    787\n",
      "6    583\n",
      "4    495\n",
      "3    359\n",
      "2    200\n",
      "1    148\n",
      "Name: week, dtype: int64\n",
      "\n",
      "\n",
      "Frequency of site visits:\n",
      "27    317\n",
      "26    296\n",
      "28    283\n",
      "29    258\n",
      "25    252\n",
      "24    219\n",
      "30    195\n",
      "23    156\n",
      "31    132\n",
      "22    124\n",
      "Name: nb_site_visits, dtype: int64\n",
      "\n",
      "\n",
      "Frequency of products sold:\n",
      "12    889\n",
      "15    552\n",
      "10    539\n",
      "13    393\n",
      "9      97\n",
      "8      51\n",
      "16     31\n",
      "11     20\n",
      "Name: nb_sold, dtype: int64\n",
      "\n",
      "\n",
      "Frequency of years as customer:\n",
      "1    448\n",
      "0    336\n",
      "2    336\n",
      "3    293\n",
      "4    227\n",
      "5    187\n",
      "6    149\n",
      "8     96\n",
      "7     96\n",
      "9     69\n",
      "Name: years_as_customer, dtype: int64\n"
     ]
    }
   ],
   "source": [
    "#describe on revenue\n",
    "print(\"Revenue\")\n",
    "display(email_call['revenue'].describe())\n",
    "\n",
    "#value counts of week\n",
    "print(f\"Frequency of week:\\n{email_call['week'].value_counts()}\")\n",
    "print(\"\\n\")\n",
    "\n",
    "#value counts of nb_sold\n",
    "print(f\"Frequency of site visits:\\n{email_call['nb_site_visits'].value_counts().head(10)}\")\n",
    "print(\"\\n\")\n",
    "\n",
    "#value counts of years_as_customer\n",
    "print(f\"Frequency of products sold:\\n{email_call['nb_sold'].value_counts().head(10)}\")\n",
    "print(\"\\n\")\n",
    "\n",
    "#value counts of years_as_customer\n",
    "print(f\"Frequency of years as customer:\\n{email_call['years_as_customer'].value_counts().head(10)}\")"
   ]
  },
  {
   "cell_type": "markdown",
   "id": "372323b5",
   "metadata": {},
   "source": [
    "For the Email + Call sales method can see that the `revenue`'s mean and median are significantly higher than the previous datasets with 170.88 and 182.14 respectively. Telling us that the more time spent on the customer the more revenue is earned per customer. The frequency of the `week` is mostly going in reverse chronological order with 5 being the highest at 787 then 6 at 583 until 1.\n",
    "\n",
    "The `nb_site_visits` follows the original and other datasets with the top 10 mostly being in the range of 21 to 30, except for 3. The top `nb_sold` values are higher than the ones from the other datasets with 12 being the highest at 889. The years_as_customers are the similar to the others with 1, 0, and 3 being the top 3. 3 is still in the top 5."
   ]
  },
  {
   "cell_type": "markdown",
   "id": "4f28e2da",
   "metadata": {},
   "source": [
    "### Email + Call Distribution"
   ]
  },
  {
   "cell_type": "code",
   "execution_count": 43,
   "id": "6dfbb41f",
   "metadata": {},
   "outputs": [
    {
     "data": {
      "image/png": "[encoded data removed]",
      "text/plain": [
       "<Figure size 720x504 with 1 Axes>"
      ]
     },
     "metadata": {
      "needs_background": "light"
     },
     "output_type": "display_data"
    }
   ],
   "source": [
    "#distribution of sales method using histogram\n",
    "plt.figure(figsize=(10,7))\n",
    "sns.histplot(data=email_call, x='revenue', kde=True)\n",
    "plt.xlabel('Revenue')\n",
    "plt.title('Distribution of Revenue by Sales Method - Email + Call');"
   ]
  },
  {
   "cell_type": "markdown",
   "id": "b1dbd6d7",
   "metadata": {},
   "source": [
    "The distribution of revenue for the sales method Email + Call shows that most of the values are above 100. As shown before with the .describe() method all of the values are above the original dataset, product_sales's median. The range is from the a little under 100 to 240. The sales method makes up the last part of the distribution of product_sales. It has 2,572 instances, making up 17.17% of the dataset. "
   ]
  },
  {
   "cell_type": "markdown",
   "id": "ae4bd1a9",
   "metadata": {},
   "source": [
    "### Email + Call Visualizations "
   ]
  },
  {
   "cell_type": "code",
   "execution_count": 44,
   "id": "47d487e2",
   "metadata": {},
   "outputs": [
    {
     "data": {
      "image/png": "[encoded data removed]",
      "text/plain": [
       "<Figure size 720x504 with 1 Axes>"
      ]
     },
     "metadata": {
      "needs_background": "light"
     },
     "output_type": "display_data"
    }
   ],
   "source": [
    "#violinplot for week \n",
    "plt.figure(figsize=(10,7))\n",
    "sns.violinplot(data=email_call, x='week', y='revenue', palette=\"Blues\")\n",
    "plt.xlabel('Week')\n",
    "plt.ylabel('Amount of Revenue')\n",
    "plt.title('Range of Revenue by Week After Product Launch (Email + Call Sales Method)');"
   ]
  },
  {
   "cell_type": "markdown",
   "id": "c5b00f74",
   "metadata": {},
   "source": [
    "With this violinplot can see that the bulk of the values are towards the higher range of the revenue compared to the other sales method that were in smaller part of the range. Can see that the range differs greatly from the week since the product with launch with week 1 having a range from under a 100 to little under 150, while week 6 has a range of 90 to greater than 250. "
   ]
  },
  {
   "cell_type": "code",
   "execution_count": 45,
   "id": "a3a23b20",
   "metadata": {},
   "outputs": [
    {
     "data": {
      "image/png": "[encoded data removed]",
      "text/plain": [
       "<Figure size 720x504 with 1 Axes>"
      ]
     },
     "metadata": {
      "needs_background": "light"
     },
     "output_type": "display_data"
    }
   ],
   "source": [
    "#boxplot for years_as_customer by revenue sales method - Email + Call\n",
    "plt.figure(figsize=(10,7))\n",
    "sns.boxplot(data=email_call, x='years_as_customer', y='revenue', order=email_call.years_as_customer.value_counts().iloc[:5].index, palette=\"Blues\")\n",
    "plt.xlabel('Years')\n",
    "plt.ylabel('Amount of Revenue')\n",
    "plt.title('Revenue & Top 5 Years as Customer by Sales Method - Email + Call');"
   ]
  },
  {
   "cell_type": "markdown",
   "id": "c7041c39",
   "metadata": {},
   "source": [
    "From this boxplot can see that the range for customers that have been buying products from the company for one and four years have a larger range from under 100 to under 240, compared to the other top 5 years. Most of the values, for all of the top years have most of the values from 150 to 190. The median is quite similar for these years as well - around 180. "
   ]
  },
  {
   "cell_type": "code",
   "execution_count": 46,
   "id": "7f0aeebe",
   "metadata": {},
   "outputs": [
    {
     "data": {
      "image/png": "[encoded data removed]",
      "text/plain": [
       "<Figure size 720x504 with 1 Axes>"
      ]
     },
     "metadata": {
      "needs_background": "light"
     },
     "output_type": "display_data"
    }
   ],
   "source": [
    "#boxplot for nb_site_visits by revenue sales method - Email\n",
    "plt.figure(figsize=(10,7))\n",
    "sns.boxplot(data=email_call, x='nb_site_visits', y='revenue', order=email_call.nb_site_visits.value_counts().iloc[:5].index, palette=\"Blues\")\n",
    "plt.xlabel('Site Vists')\n",
    "plt.ylabel('Amount of Revenue')\n",
    "plt.title('Revenue & Top 5 Site Visits by Sales Method - Email + Call');"
   ]
  },
  {
   "cell_type": "markdown",
   "id": "345c8dd0",
   "metadata": {},
   "source": [
    "The customer who visits the site 25 times in 6 months has a larger range of revenue from under 100 to just a little under 240, the other top 5 have a much smaller range at around 120 to under 240. They do have some outliers, which most likely are from the imputation of the median. The median for all of the values in the top 5, have median that are very similar howevr with a around 180. Most of the revenue earned for 29 is 180 to 240, which happens to be the highest value in the top 5. "
   ]
  },
  {
   "cell_type": "code",
   "execution_count": 47,
   "id": "085269b6",
   "metadata": {},
   "outputs": [
    {
     "data": {
      "image/png": "[encoded data removed]",
      "text/plain": [
       "<Figure size 720x504 with 1 Axes>"
      ]
     },
     "metadata": {
      "needs_background": "light"
     },
     "output_type": "display_data"
    }
   ],
   "source": [
    "#boxplot for nb_sold by revenue sales method - Email + Call\n",
    "plt.figure(figsize=(10,7))\n",
    "sns.boxplot(data=email_call, x='nb_sold', y='revenue', order=email_call.nb_sold.value_counts().iloc[:5].index, palette=\"Blues\")\n",
    "plt.xlabel('Products Sold')\n",
    "plt.ylabel('Amount of Revenue')\n",
    "plt.title('Revenue & Top 5 New Products Sold by Sales Method - Email + Call');"
   ]
  },
  {
   "cell_type": "markdown",
   "id": "5a745d72",
   "metadata": {},
   "source": [
    "From this box plot can see that the more products sold, the more revenue earned per customer which again follows the pattern of the other sales method and makes sense - the more bought, the more earned. All of the values for product sold have a relatively small range and there is not much of an overlap between the values, unlike in the Call method."
   ]
  },
  {
   "cell_type": "markdown",
   "id": "2f5f2c83",
   "metadata": {},
   "source": [
    "----\n",
    "## Conclusion"
   ]
  },
  {
   "cell_type": "markdown",
   "id": "9b5373a3",
   "metadata": {},
   "source": [
    "In conclusion, separating the dataset by sales method - Email, Call, Email + Call - has shown that it matters. Email earns an average of 96.57 dollars of revenue per customer. Call earns an average of 49.13 dollars of revenue per customer. Finally, the sales method - Email + Call earn an average of 170.88 dollars of revenue per customer. Therefore, what this tells Pens and Printers is to take more time per customer when selling products i.e. take the time to email and call as a follow up to make the sale which will earn you more revenue per sale. Also found that, with the sale method Email + Call, more products were bought, customers visited a couple of more times than other methods, and the purchase of the products were in the later weeks following the product launch. \n",
    "\n",
    "My recommendations for Pens and Printers is to use the sale method - Email and Call for each customer to have more revenue earned per customer. Since on average they earned more than just the Email by $74.31 and they earned $121.75 more than the Call sales method. Another recommendation I have, is for the sales team to send emails about their product line not just on the day of the launch, and then again three weeks later; but to send them more consistently. For example an email can be sent a couple of days before the launch to create buzz around the product, and sent every week afterwards until the next launch. As was shown in the data the customers who bought their products further from the product launch bought more product per sale and earned more revenue for the company. For the final recommendation, I would recommend launching some sort of loyalty/rewards program for customers that buy a certain amount of products and for how long the customers are with the company. Since the more products bought, the more revenue earned and that for most of the customers they have been with the company for less than 5 years - it would be nice to reward the customers that have been with the company longer as a way of thanks and to keep them shopping at Pens and Printers more consistently.  "
   ]
  }
 ],
 "metadata": {
  "colab": {
   "name": "Welcome to DataCamp Workspaces.ipynb",
   "provenance": []
  },
  "kernelspec": {
   "display_name": "Python 3",
   "language": "python",
   "name": "python3"
  },
  "language_info": {
   "codemirror_mode": {
    "name": "ipython",
    "version": 3
   },
   "file_extension": ".py",
   "mimetype": "text/x-python",
   "name": "python",
   "nbconvert_exporter": "python",
   "pygments_lexer": "ipython3",
   "version": "3.8.5"
  }
 },
 "nbformat": 4,
 "nbformat_minor": 5
}
